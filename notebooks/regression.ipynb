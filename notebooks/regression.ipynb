{
 "cells": [
  {
   "cell_type": "code",
   "execution_count": 43,
   "outputs": [],
   "source": [
    "import numpy as np\n",
    "import scipy as sp\n",
    "import sympy as sm\n",
    "import pandas as pd\n",
    "\n",
    "import bottleneck as bn\n",
    "import numexpr as ne\n",
    "import numba as nb\n",
    "\n",
    "import matplotlib as mpl\n",
    "import matplotlib.pyplot as plt\n",
    "import seaborn as sns\n",
    "\n",
    "\n",
    "sns.set()\n",
    "sns.set_style(\"dark\")"
   ],
   "metadata": {
    "collapsed": false,
    "pycharm": {
     "name": "#%%\n"
    }
   }
  },
  {
   "cell_type": "code",
   "execution_count": 44,
   "outputs": [],
   "source": [
    "from math import sin, cos, sqrt, atan2, radians"
   ],
   "metadata": {
    "collapsed": false,
    "pycharm": {
     "name": "#%%\n"
    }
   }
  },
  {
   "cell_type": "code",
   "execution_count": 45,
   "outputs": [],
   "source": [
    "from sklearn.model_selection import train_test_split\n",
    "from sklearn.metrics import mean_absolute_error\n",
    "from sklearn.neighbors import KNeighborsRegressor,KNeighborsClassifier\n",
    "from sklearn.decomposition import PCA\n",
    "from sklearn.linear_model import SGDRegressor\n",
    "from sklearn.svm import SVR\n",
    "from sklearn.pipeline import make_pipeline\n",
    "from sklearn.preprocessing import PolynomialFeatures,StandardScaler,OrdinalEncoder,OneHotEncoder\n",
    "from sklearn.feature_selection import SelectFromModel\n",
    "from sklearn.compose import ColumnTransformer\n",
    "from sklearn.base import BaseEstimator\n",
    "from sklearn.ensemble import ExtraTreesRegressor,GradientBoostingRegressor"
   ],
   "metadata": {
    "collapsed": false,
    "pycharm": {
     "name": "#%%\n"
    }
   }
  },
  {
   "cell_type": "code",
   "execution_count": 46,
   "outputs": [],
   "source": [
    "import xgboost as xgd"
   ],
   "metadata": {
    "collapsed": false,
    "pycharm": {
     "name": "#%%\n"
    }
   }
  },
  {
   "cell_type": "markdown",
   "source": [
    "Dataset:\n",
    "\n",
    "House Price Prediction Challenge - https://www.kaggle.com/anmolkumar/house-price-prediction-challenge\n",
    "\n",
    "Predict the house prices in India\n",
    "\n",
    "| Column | Description  |\n",
    "| --- | --- |\n",
    "| POSTED_BY          | Category marking who has listed the property|\n",
    "| UNDER_CONSTRUCTION | Under Construction or Not|\n",
    "| RERA               | Rera approved or Not|\n",
    "| BHK_NO             | Number of Rooms|\n",
    "| BHKORRK            | Type of property|\n",
    "| SQUARE_FT          | Total area of the house in square feet|\n",
    "| READYTOMOVE        | Category marking Ready to move or Not|\n",
    "| RESALE             | Category marking Resale or not|\n",
    "| ADDRESS            | Address of the property|\n",
    "| LONGITUDE          | Longitude of the property|\n",
    "| LATITUDE           | Latitude of the property|\n",
    "\n"
   ],
   "metadata": {
    "collapsed": false,
    "pycharm": {
     "name": "#%% md\n"
    }
   }
  },
  {
   "cell_type": "markdown",
   "source": [
    "Выведем первые 5 записей датасета.\n",
    "Как видно, адрес представляет собой строку, и выделить признак из нее очень тяжело,"
   ],
   "metadata": {
    "collapsed": false,
    "pycharm": {
     "name": "#%% md\n"
    }
   }
  },
  {
   "cell_type": "code",
   "execution_count": 47,
   "outputs": [
    {
     "data": {
      "text/plain": "  POSTED_BY  UNDER_CONSTRUCTION  RERA  BHK_NO. BHK_OR_RK    SQUARE_FT  \\\n0     Owner                   0     0        2       BHK  1300.236407   \n1    Dealer                   0     0        2       BHK  1275.000000   \n2     Owner                   0     0        2       BHK   933.159722   \n3     Owner                   0     1        2       BHK   929.921143   \n4    Dealer                   1     0        2       BHK   999.009247   \n\n   READY_TO_MOVE  RESALE                      ADDRESS  LONGITUDE   LATITUDE  \\\n0              1       1        Ksfc Layout,Bangalore  12.969910  77.597960   \n1              1       1    Vishweshwara Nagar,Mysore  12.274538  76.644605   \n2              1       1             Jigani,Bangalore  12.778033  77.632191   \n3              1       1  Sector-1 Vaishali,Ghaziabad  28.642300  77.344500   \n4              0       1             New Town,Kolkata  22.592200  88.484911   \n\n   TARGET(PRICE_IN_LACS)  \n0                   55.0  \n1                   51.0  \n2                   43.0  \n3                   62.5  \n4                   60.5  ",
      "text/html": "<div>\n<style scoped>\n    .dataframe tbody tr th:only-of-type {\n        vertical-align: middle;\n    }\n\n    .dataframe tbody tr th {\n        vertical-align: top;\n    }\n\n    .dataframe thead th {\n        text-align: right;\n    }\n</style>\n<table border=\"1\" class=\"dataframe\">\n  <thead>\n    <tr style=\"text-align: right;\">\n      <th></th>\n      <th>POSTED_BY</th>\n      <th>UNDER_CONSTRUCTION</th>\n      <th>RERA</th>\n      <th>BHK_NO.</th>\n      <th>BHK_OR_RK</th>\n      <th>SQUARE_FT</th>\n      <th>READY_TO_MOVE</th>\n      <th>RESALE</th>\n      <th>ADDRESS</th>\n      <th>LONGITUDE</th>\n      <th>LATITUDE</th>\n      <th>TARGET(PRICE_IN_LACS)</th>\n    </tr>\n  </thead>\n  <tbody>\n    <tr>\n      <th>0</th>\n      <td>Owner</td>\n      <td>0</td>\n      <td>0</td>\n      <td>2</td>\n      <td>BHK</td>\n      <td>1300.236407</td>\n      <td>1</td>\n      <td>1</td>\n      <td>Ksfc Layout,Bangalore</td>\n      <td>12.969910</td>\n      <td>77.597960</td>\n      <td>55.0</td>\n    </tr>\n    <tr>\n      <th>1</th>\n      <td>Dealer</td>\n      <td>0</td>\n      <td>0</td>\n      <td>2</td>\n      <td>BHK</td>\n      <td>1275.000000</td>\n      <td>1</td>\n      <td>1</td>\n      <td>Vishweshwara Nagar,Mysore</td>\n      <td>12.274538</td>\n      <td>76.644605</td>\n      <td>51.0</td>\n    </tr>\n    <tr>\n      <th>2</th>\n      <td>Owner</td>\n      <td>0</td>\n      <td>0</td>\n      <td>2</td>\n      <td>BHK</td>\n      <td>933.159722</td>\n      <td>1</td>\n      <td>1</td>\n      <td>Jigani,Bangalore</td>\n      <td>12.778033</td>\n      <td>77.632191</td>\n      <td>43.0</td>\n    </tr>\n    <tr>\n      <th>3</th>\n      <td>Owner</td>\n      <td>0</td>\n      <td>1</td>\n      <td>2</td>\n      <td>BHK</td>\n      <td>929.921143</td>\n      <td>1</td>\n      <td>1</td>\n      <td>Sector-1 Vaishali,Ghaziabad</td>\n      <td>28.642300</td>\n      <td>77.344500</td>\n      <td>62.5</td>\n    </tr>\n    <tr>\n      <th>4</th>\n      <td>Dealer</td>\n      <td>1</td>\n      <td>0</td>\n      <td>2</td>\n      <td>BHK</td>\n      <td>999.009247</td>\n      <td>0</td>\n      <td>1</td>\n      <td>New Town,Kolkata</td>\n      <td>22.592200</td>\n      <td>88.484911</td>\n      <td>60.5</td>\n    </tr>\n  </tbody>\n</table>\n</div>"
     },
     "execution_count": 47,
     "metadata": {},
     "output_type": "execute_result"
    }
   ],
   "source": [
    "# defines dataframe\n",
    "df = pd.read_csv('../input/house-price-prediction-challenge/train.csv')\n",
    "df.head()"
   ],
   "metadata": {
    "collapsed": false,
    "pycharm": {
     "name": "#%%\n"
    }
   }
  },
  {
   "cell_type": "markdown",
   "source": [
    "Отобразим информацию о типах данных и нулевых значениях.\n",
    "\n",
    "Нулевых значений нет, не придется заполнить их."
   ],
   "metadata": {
    "collapsed": false,
    "pycharm": {
     "name": "#%% md\n"
    }
   }
  },
  {
   "cell_type": "code",
   "execution_count": 48,
   "outputs": [
    {
     "name": "stdout",
     "output_type": "stream",
     "text": [
      "<class 'pandas.core.frame.DataFrame'>\n",
      "RangeIndex: 29451 entries, 0 to 29450\n",
      "Data columns (total 12 columns):\n",
      " #   Column                 Non-Null Count  Dtype  \n",
      "---  ------                 --------------  -----  \n",
      " 0   POSTED_BY              29451 non-null  object \n",
      " 1   UNDER_CONSTRUCTION     29451 non-null  int64  \n",
      " 2   RERA                   29451 non-null  int64  \n",
      " 3   BHK_NO.                29451 non-null  int64  \n",
      " 4   BHK_OR_RK              29451 non-null  object \n",
      " 5   SQUARE_FT              29451 non-null  float64\n",
      " 6   READY_TO_MOVE          29451 non-null  int64  \n",
      " 7   RESALE                 29451 non-null  int64  \n",
      " 8   ADDRESS                29451 non-null  object \n",
      " 9   LONGITUDE              29451 non-null  float64\n",
      " 10  LATITUDE               29451 non-null  float64\n",
      " 11  TARGET(PRICE_IN_LACS)  29451 non-null  float64\n",
      "dtypes: float64(4), int64(5), object(3)\n",
      "memory usage: 2.7+ MB\n"
     ]
    }
   ],
   "source": [
    "df.info()"
   ],
   "metadata": {
    "collapsed": false,
    "pycharm": {
     "name": "#%%\n"
    }
   }
  },
  {
   "cell_type": "markdown",
   "source": [
    "Выведем основные статистики по столбцам.\n",
    "\n",
    "Видно выбросы в столбцах цены и площади, попробуем отделить верные данные от ошибочных."
   ],
   "metadata": {
    "collapsed": false,
    "pycharm": {
     "name": "#%% md\n"
    }
   }
  },
  {
   "cell_type": "code",
   "execution_count": 49,
   "outputs": [
    {
     "data": {
      "text/plain": "       UNDER_CONSTRUCTION          RERA       BHK_NO.     SQUARE_FT  \\\ncount        29451.000000  29451.000000  29451.000000  2.945100e+04   \nmean             0.179756      0.317918      2.392279  1.980217e+04   \nstd              0.383991      0.465675      0.879091  1.901335e+06   \nmin              0.000000      0.000000      1.000000  3.000000e+00   \n25%              0.000000      0.000000      2.000000  9.000211e+02   \n50%              0.000000      0.000000      2.000000  1.175057e+03   \n75%              0.000000      1.000000      3.000000  1.550688e+03   \nmax              1.000000      1.000000     20.000000  2.545455e+08   \n\n       READY_TO_MOVE        RESALE     LONGITUDE      LATITUDE  \\\ncount   29451.000000  29451.000000  29451.000000  29451.000000   \nmean        0.820244      0.929578     21.300255     76.837695   \nstd         0.383991      0.255861      6.205306     10.557747   \nmin         0.000000      0.000000    -37.713008   -121.761248   \n25%         1.000000      1.000000     18.452663     73.798100   \n50%         1.000000      1.000000     20.750000     77.324137   \n75%         1.000000      1.000000     26.900926     77.828740   \nmax         1.000000      1.000000     59.912884    152.962676   \n\n       TARGET(PRICE_IN_LACS)  \ncount           29451.000000  \nmean              142.898746  \nstd               656.880713  \nmin                 0.250000  \n25%                38.000000  \n50%                62.000000  \n75%               100.000000  \nmax             30000.000000  ",
      "text/html": "<div>\n<style scoped>\n    .dataframe tbody tr th:only-of-type {\n        vertical-align: middle;\n    }\n\n    .dataframe tbody tr th {\n        vertical-align: top;\n    }\n\n    .dataframe thead th {\n        text-align: right;\n    }\n</style>\n<table border=\"1\" class=\"dataframe\">\n  <thead>\n    <tr style=\"text-align: right;\">\n      <th></th>\n      <th>UNDER_CONSTRUCTION</th>\n      <th>RERA</th>\n      <th>BHK_NO.</th>\n      <th>SQUARE_FT</th>\n      <th>READY_TO_MOVE</th>\n      <th>RESALE</th>\n      <th>LONGITUDE</th>\n      <th>LATITUDE</th>\n      <th>TARGET(PRICE_IN_LACS)</th>\n    </tr>\n  </thead>\n  <tbody>\n    <tr>\n      <th>count</th>\n      <td>29451.000000</td>\n      <td>29451.000000</td>\n      <td>29451.000000</td>\n      <td>2.945100e+04</td>\n      <td>29451.000000</td>\n      <td>29451.000000</td>\n      <td>29451.000000</td>\n      <td>29451.000000</td>\n      <td>29451.000000</td>\n    </tr>\n    <tr>\n      <th>mean</th>\n      <td>0.179756</td>\n      <td>0.317918</td>\n      <td>2.392279</td>\n      <td>1.980217e+04</td>\n      <td>0.820244</td>\n      <td>0.929578</td>\n      <td>21.300255</td>\n      <td>76.837695</td>\n      <td>142.898746</td>\n    </tr>\n    <tr>\n      <th>std</th>\n      <td>0.383991</td>\n      <td>0.465675</td>\n      <td>0.879091</td>\n      <td>1.901335e+06</td>\n      <td>0.383991</td>\n      <td>0.255861</td>\n      <td>6.205306</td>\n      <td>10.557747</td>\n      <td>656.880713</td>\n    </tr>\n    <tr>\n      <th>min</th>\n      <td>0.000000</td>\n      <td>0.000000</td>\n      <td>1.000000</td>\n      <td>3.000000e+00</td>\n      <td>0.000000</td>\n      <td>0.000000</td>\n      <td>-37.713008</td>\n      <td>-121.761248</td>\n      <td>0.250000</td>\n    </tr>\n    <tr>\n      <th>25%</th>\n      <td>0.000000</td>\n      <td>0.000000</td>\n      <td>2.000000</td>\n      <td>9.000211e+02</td>\n      <td>1.000000</td>\n      <td>1.000000</td>\n      <td>18.452663</td>\n      <td>73.798100</td>\n      <td>38.000000</td>\n    </tr>\n    <tr>\n      <th>50%</th>\n      <td>0.000000</td>\n      <td>0.000000</td>\n      <td>2.000000</td>\n      <td>1.175057e+03</td>\n      <td>1.000000</td>\n      <td>1.000000</td>\n      <td>20.750000</td>\n      <td>77.324137</td>\n      <td>62.000000</td>\n    </tr>\n    <tr>\n      <th>75%</th>\n      <td>0.000000</td>\n      <td>1.000000</td>\n      <td>3.000000</td>\n      <td>1.550688e+03</td>\n      <td>1.000000</td>\n      <td>1.000000</td>\n      <td>26.900926</td>\n      <td>77.828740</td>\n      <td>100.000000</td>\n    </tr>\n    <tr>\n      <th>max</th>\n      <td>1.000000</td>\n      <td>1.000000</td>\n      <td>20.000000</td>\n      <td>2.545455e+08</td>\n      <td>1.000000</td>\n      <td>1.000000</td>\n      <td>59.912884</td>\n      <td>152.962676</td>\n      <td>30000.000000</td>\n    </tr>\n  </tbody>\n</table>\n</div>"
     },
     "execution_count": 49,
     "metadata": {},
     "output_type": "execute_result"
    }
   ],
   "source": [
    "df.describe()\n"
   ],
   "metadata": {
    "collapsed": false,
    "pycharm": {
     "name": "#%%\n"
    }
   }
  },
  {
   "cell_type": "markdown",
   "source": [
    "Отрисуем гистрограммы по численным столбцам.\n",
    "Как видно, широта, цена и площадь имеют выбросы, так как их гистограммы имеют широкий диапозон значений, хотя почти все значения\n",
    "находятся в 1 столбце."
   ],
   "metadata": {
    "collapsed": false,
    "pycharm": {
     "name": "#%% md\n"
    }
   }
  },
  {
   "cell_type": "code",
   "execution_count": 50,
   "outputs": [
    {
     "data": {
      "text/plain": "<Figure size 648x648 with 9 Axes>",
      "image/png": "[encoded data removed]"
     },
     "metadata": {},
     "output_type": "display_data"
    }
   ],
   "source": [
    "df.hist(figsize=(9,9),ec='k')\n",
    "plt.tight_layout()"
   ],
   "metadata": {
    "collapsed": false,
    "pycharm": {
     "name": "#%%\n"
    }
   }
  },
  {
   "cell_type": "markdown",
   "source": [
    "Отрисуем \"ящик с усами\" для цены.\n",
    "\n",
    "Как видно, выборка очень зашумлена. Отсеем по квантили 0.95 значения."
   ],
   "metadata": {
    "collapsed": false,
    "pycharm": {
     "name": "#%% md\n"
    }
   }
  },
  {
   "cell_type": "code",
   "execution_count": 51,
   "outputs": [
    {
     "data": {
      "text/plain": "<AxesSubplot:>"
     },
     "execution_count": 51,
     "metadata": {},
     "output_type": "execute_result"
    },
    {
     "data": {
      "text/plain": "<Figure size 432x288 with 1 Axes>",
      "image/png": "[encoded data removed]"
     },
     "metadata": {},
     "output_type": "display_data"
    }
   ],
   "source": [
    "price=df['TARGET(PRICE_IN_LACS)']\n",
    "price.plot.box()"
   ],
   "metadata": {
    "collapsed": false,
    "pycharm": {
     "name": "#%%\n"
    }
   }
  },
  {
   "cell_type": "code",
   "execution_count": 52,
   "outputs": [],
   "source": [
    "q=np.quantile(price,0.95)"
   ],
   "metadata": {
    "collapsed": false,
    "pycharm": {
     "name": "#%%\n"
    }
   }
  },
  {
   "cell_type": "markdown",
   "source": [
    "Гистограмма и ящик с усами для цены без выбросов."
   ],
   "metadata": {
    "collapsed": false,
    "pycharm": {
     "name": "#%% md\n"
    }
   }
  },
  {
   "cell_type": "code",
   "execution_count": 53,
   "outputs": [
    {
     "data": {
      "text/plain": "<Figure size 432x288 with 1 Axes>",
      "image/png": "[encoded data removed]"
     },
     "metadata": {},
     "output_type": "display_data"
    },
    {
     "data": {
      "text/plain": "<AxesSubplot:>"
     },
     "execution_count": 53,
     "metadata": {},
     "output_type": "execute_result"
    },
    {
     "data": {
      "text/plain": "<Figure size 432x288 with 1 Axes>",
      "image/png": "[encoded data removed]"
     },
     "metadata": {},
     "output_type": "display_data"
    }
   ],
   "source": [
    "price[price<=q].hist()\n",
    "plt.show()\n",
    "price[price<=q].plot.box()"
   ],
   "metadata": {
    "collapsed": false,
    "pycharm": {
     "name": "#%%\n"
    }
   }
  },
  {
   "cell_type": "markdown",
   "source": [
    "Аналогичную операцию произведем для площади."
   ],
   "metadata": {
    "collapsed": false,
    "pycharm": {
     "name": "#%% md\n"
    }
   }
  },
  {
   "cell_type": "code",
   "execution_count": 54,
   "outputs": [
    {
     "data": {
      "text/plain": "<AxesSubplot:>"
     },
     "execution_count": 54,
     "metadata": {},
     "output_type": "execute_result"
    },
    {
     "data": {
      "text/plain": "<Figure size 432x288 with 1 Axes>",
      "image/png": "[encoded data removed]"
     },
     "metadata": {},
     "output_type": "display_data"
    }
   ],
   "source": [
    "area=df['SQUARE_FT']\n",
    "area.plot.box()"
   ],
   "metadata": {
    "collapsed": false,
    "pycharm": {
     "name": "#%%\n"
    }
   }
  },
  {
   "cell_type": "code",
   "execution_count": 55,
   "outputs": [],
   "source": [
    "q2=np.quantile(area,0.95)"
   ],
   "metadata": {
    "collapsed": false,
    "pycharm": {
     "name": "#%%\n"
    }
   }
  },
  {
   "cell_type": "code",
   "execution_count": 56,
   "outputs": [
    {
     "data": {
      "text/plain": "<Figure size 432x288 with 1 Axes>",
      "image/png": "[encoded data removed]"
     },
     "metadata": {},
     "output_type": "display_data"
    },
    {
     "data": {
      "text/plain": "<AxesSubplot:>"
     },
     "execution_count": 56,
     "metadata": {},
     "output_type": "execute_result"
    },
    {
     "data": {
      "text/plain": "<Figure size 432x288 with 1 Axes>",
      "image/png": "[encoded data removed]"
     },
     "metadata": {},
     "output_type": "display_data"
    }
   ],
   "source": [
    "area[area<=q2].hist()\n",
    "plt.show()\n",
    "area[area<=q2].plot.box()\n"
   ],
   "metadata": {
    "collapsed": false,
    "pycharm": {
     "name": "#%%\n"
    }
   }
  },
  {
   "cell_type": "code",
   "execution_count": 57,
   "outputs": [
    {
     "name": "stderr",
     "output_type": "stream",
     "text": [
      "/opt/conda/lib/python3.7/site-packages/ipykernel_launcher.py:2: UserWarning: Boolean Series key will be reindexed to match DataFrame index.\n",
      "  \n"
     ]
    }
   ],
   "source": [
    "df=df[price<q]\n",
    "df=df[area<q2]\n"
   ],
   "metadata": {
    "collapsed": false,
    "pycharm": {
     "name": "#%%\n"
    }
   }
  },
  {
   "cell_type": "markdown",
   "source": [
    "Чтобы убрать из выборки выбросы по широи долготе, а также чтобы выделить признак - штат, отрусем карту Земли\n",
    "с Индией, на ней отметим положение квартир (цвет означает цену - чем он краснее, тем она больше)"
   ],
   "metadata": {
    "collapsed": false,
    "pycharm": {
     "name": "#%% md\n"
    }
   }
  },
  {
   "cell_type": "code",
   "execution_count": 58,
   "outputs": [
    {
     "data": {
      "text/plain": "<matplotlib.colorbar.Colorbar at 0x7f7d940ac210>"
     },
     "execution_count": 58,
     "metadata": {},
     "output_type": "execute_result"
    },
    {
     "data": {
      "text/plain": "<Figure size 576x576 with 2 Axes>",
      "image/png": "[encoded data removed]"
     },
     "metadata": {},
     "output_type": "display_data"
    }
   ],
   "source": [
    "from matplotlib.patches import Polygon\n",
    "from matplotlib.collections import PatchCollection\n",
    "from matplotlib.colors import Normalize\n",
    "from mpl_toolkits.basemap import Basemap\n",
    "import matplotlib.path as mpltPath\n",
    "# fig, ax = plt.subplots(figsize=(8, 8))\n",
    "fig = plt.figure(figsize=(8, 8))\n",
    "m = Basemap(projection='lcc', resolution='l',\n",
    "            width=3E6, height=3E6,\n",
    "            lat_0=20.6, lon_0=77.8)\n",
    "\n",
    "\n",
    "lat=df['LATITUDE'].to_numpy()\n",
    "lon=df['LONGITUDE'].to_numpy()\n",
    "x_proj,y_proj=arr=m(lat,lon)\n",
    "price=df['TARGET(PRICE_IN_LACS)']\n",
    "\n",
    "# m.etopo(scale=0.5, alpha=0.5)\n",
    "# m.shadedrelief()\n",
    "# m.drawmapboundary(fill_color='aqua')\n",
    "# m.fillcontinents(color='white',lake_color='aqua')\n",
    "\n",
    "m.drawcountries()\n",
    "m.drawcoastlines()\n",
    "\n",
    "m.readshapefile('../input/d/wkafan003/india-shape/India_SHP/INDIA','INDIA')\n",
    "# m.bluemarble()\n",
    "# meridians on bottom and left\n",
    "parallels = np.arange(0.,40,5.)\n",
    "# labels = [left,right,top,bottom]\n",
    "m.drawparallels(parallels,labels=[False,True,True,False])\n",
    "meridians = np.arange(60.,100.,5.)\n",
    "m.drawmeridians(meridians,labels=[True,False,False,True])\n",
    "\n",
    "plt.scatter(arr[0],arr[1],c=price,s=price/1.3,zorder=2,cmap='seismic')\n",
    "plt.colorbar()\n",
    "# plt.draw()\n",
    "\n"
   ],
   "metadata": {
    "collapsed": false,
    "pycharm": {
     "name": "#%%\n"
    }
   }
  },
  {
   "cell_type": "markdown",
   "source": [
    "Из shape файла были загружены прямоугольники, которые определяют штаты, чтобы узнать принадлежность\n",
    "квартиры к штату, напишем функцию проверки принадлежности точки к многоугольнику."
   ],
   "metadata": {
    "collapsed": false,
    "pycharm": {
     "name": "#%% md\n"
    }
   }
  },
  {
   "cell_type": "code",
   "execution_count": 59,
   "outputs": [],
   "source": [
    "@nb.njit\n",
    "def point_in_polygon(x,y,polygon):\n",
    "    inside=False\n",
    "    # x,y=point[0],point[1]\n",
    "    nvert=polygon.shape[0]\n",
    "    for i in range(nvert):\n",
    "        j=(i+1)%nvert\n",
    "        xp0=polygon[i,0]\n",
    "        yp0=polygon[i,1]\n",
    "        xp1=polygon[j,0]\n",
    "        yp1=polygon[j,1]\n",
    "        if (yp0 <= y) & (yp1 > y) | (yp1 <= y) & (yp0 > y):\n",
    "            cross = (xp1 - xp0) * (y - yp0) / (yp1 - yp0) + xp0\n",
    "            if cross < x:\n",
    "                inside = not inside\n",
    "\n",
    "    return inside\n",
    "def polygon_area(polygon):\n",
    "    x=polygon[:,0]\n",
    "    y=polygon[:,1]\n",
    "    return 0.5*np.abs(np.dot(x,np.roll(y,1))-np.dot(y,np.roll(x,1)))"
   ],
   "metadata": {
    "collapsed": false,
    "pycharm": {
     "name": "#%%\n"
    }
   }
  },
  {
   "cell_type": "markdown",
   "source": [
    "Определим штат для каждой квартиры, путем нахождения принадлежности точек (квартир) штатам (многоугольникам).\n",
    "Предварительно отсортируем штаты по площади, чтобы ускорить поиск, который останавливается при срабатывании вхождения точки\n",
    "в многоугольник."
   ],
   "metadata": {
    "collapsed": false
   }
  },
  {
   "cell_type": "code",
   "source": [
    "from numba.typed import List\n",
    "states=[[np.array(m.INDIA[i]),\n",
    "         m.INDIA_info[i]['ST_NAME'],\n",
    "         ] for i in range(len(m.INDIA))]\n",
    "states=[(i[0],i[1],polygon_area(i[0])) for i in states]\n",
    "states.sort(key=lambda x:-x[2])\n",
    "\n",
    "states_polygons=List()\n",
    "for i in range(len(states)):\n",
    "    states_polygons.append(states[i][0])\n",
    "states_names=[i[1] for i in states]\n",
    "\n"
   ],
   "metadata": {
    "collapsed": false,
    "pycharm": {
     "name": "#%%\n"
    }
   },
   "execution_count": 60,
   "outputs": []
  },
  {
   "cell_type": "code",
   "execution_count": 61,
   "outputs": [],
   "source": [
    "@nb.njit\n",
    "def get_state(x,y,states_polygons):\n",
    "    # point=[x,y]\n",
    "    # state='NaN'\n",
    "    state=-1\n",
    "    for i in range(len(states_polygons)):\n",
    "        # if  states[i][0].contains_point(point):\n",
    "        if  point_in_polygon(x,y,states_polygons[i]):\n",
    "            state=i\n",
    "            break\n",
    "    return state\n",
    "\n",
    "@nb.njit(parallel=True)\n",
    "def find_states(x,y,states_polygons):\n",
    "    st = np.empty(x.shape[0],dtype=np.int8)\n",
    "    for i in nb.prange(st.shape[0]):\n",
    "        st[i]=get_state(x[i],y[i],states_polygons)\n",
    "    return st"
   ],
   "metadata": {
    "collapsed": false,
    "pycharm": {
     "name": "#%%\n"
    }
   }
  },
  {
   "cell_type": "code",
   "execution_count": 62,
   "outputs": [],
   "source": [
    "st=find_states(x_proj,y_proj,states_polygons)"
   ],
   "metadata": {
    "collapsed": false,
    "pycharm": {
     "name": "#%%\n"
    }
   }
  },
  {
   "cell_type": "code",
   "execution_count": 63,
   "outputs": [],
   "source": [
    "st_names=np.empty(st.shape[0],dtype='|U64')\n",
    "for i in range(st.shape[0]):\n",
    "    if st[i]==-1:\n",
    "        st_names[i]='NaN'\n",
    "    else:\n",
    "        st_names[i]=states_names[st[i]]"
   ],
   "metadata": {
    "collapsed": false,
    "pycharm": {
     "name": "#%%\n"
    }
   }
  },
  {
   "cell_type": "code",
   "execution_count": 64,
   "outputs": [],
   "source": [
    "df['state']=st_names"
   ],
   "metadata": {
    "collapsed": false,
    "pycharm": {
     "name": "#%%\n"
    }
   }
  },
  {
   "cell_type": "markdown",
   "source": [
    "Выведем статистику по штатам."
   ],
   "metadata": {
    "collapsed": false,
    "pycharm": {
     "name": "#%% md\n"
    }
   }
  },
  {
   "cell_type": "code",
   "execution_count": 65,
   "outputs": [
    {
     "data": {
      "text/plain": "Maharashtra          6976\nKarnataka            4105\nUttar Pradesh        3972\nHaryana              1945\nWest Bengal          1834\nRajasthan            1412\nGujarat              1380\nTamil Nadu           1366\nPunjab                740\nMadhya Pradesh        631\nAndhra Pradesh        496\nKerala                351\nOrissa                274\nNaN                   262\nJharkhand             256\nCHANDIGARH            203\nUttarakhand           186\nGoa                   175\nChhattisgarh          173\nBihar                 149\nNct Of Delhi          107\nAssam                  98\nHimachal Pradesh       41\nPondicherry            13\nJammu And Kashmir       7\nTripura                 1\nManipur                 1\nName: state, dtype: int64"
     },
     "execution_count": 65,
     "metadata": {},
     "output_type": "execute_result"
    }
   ],
   "source": [
    "df['state'].value_counts()"
   ],
   "metadata": {
    "collapsed": false,
    "pycharm": {
     "name": "#%%\n"
    }
   }
  },
  {
   "cell_type": "markdown",
   "source": [
    "Удалим те записи, которые не находятся в Индии(выбросы)."
   ],
   "metadata": {
    "collapsed": false,
    "pycharm": {
     "name": "#%% md\n"
    }
   }
  },
  {
   "cell_type": "code",
   "execution_count": 66,
   "outputs": [],
   "source": [
    "df=df[df['state']!='NaN']"
   ],
   "metadata": {
    "collapsed": false,
    "pycharm": {
     "name": "#%%\n"
    }
   }
  },
  {
   "cell_type": "markdown",
   "source": [
    "Отрисуем гистраммы данных после предобработки.\n",
    "\n",
    "Теперь нет выбросов."
   ],
   "metadata": {
    "collapsed": false,
    "pycharm": {
     "name": "#%% md\n"
    }
   }
  },
  {
   "cell_type": "code",
   "execution_count": 67,
   "outputs": [
    {
     "data": {
      "text/plain": "<Figure size 648x648 with 9 Axes>",
      "image/png": "[encoded data removed]"
     },
     "metadata": {},
     "output_type": "display_data"
    }
   ],
   "source": [
    "df.hist(figsize=(9,9),ec='k')\n",
    "plt.tight_layout()\n",
    "\n"
   ],
   "metadata": {
    "collapsed": false,
    "pycharm": {
     "name": "#%%\n"
    }
   }
  },
  {
   "cell_type": "markdown",
   "source": [
    "Разделим выборку на обучающуюся и тестовую.\n"
   ],
   "metadata": {
    "collapsed": false,
    "pycharm": {
     "name": "#%% md\n"
    }
   }
  },
  {
   "cell_type": "code",
   "execution_count": 68,
   "outputs": [],
   "source": [
    "x,y=df.drop(['TARGET(PRICE_IN_LACS)'],axis=1),df['TARGET(PRICE_IN_LACS)']"
   ],
   "metadata": {
    "collapsed": false,
    "pycharm": {
     "name": "#%%\n"
    }
   }
  },
  {
   "cell_type": "markdown",
   "source": [
    "Произведем трансформацию столбцов - численные нормализуем, категориальные переведем в one hot encoding.\n",
    "Строки выкинем, так как линейный линейный классификатор не может с ними работать."
   ],
   "metadata": {
    "collapsed": false,
    "pycharm": {
     "name": "#%% md\n"
    }
   }
  },
  {
   "cell_type": "code",
   "execution_count": 87,
   "outputs": [],
   "source": [
    "model_preprocess=ColumnTransformer([\n",
    "    ('standart_scale', StandardScaler(),['SQUARE_FT','LONGITUDE','LATITUDE']),\n",
    "    ('original_encode',OrdinalEncoder(categories=[['BHK','RK']]),['BHK_OR_RK']),\n",
    "    ('ohe',OneHotEncoder(sparse=False),['POSTED_BY',]),\n",
    "    ('drop','drop',['ADDRESS','state'])\n",
    "],\n",
    "    remainder='passthrough')"
   ],
   "metadata": {
    "collapsed": false,
    "pycharm": {
     "name": "#%%\n"
    }
   }
  },
  {
   "cell_type": "code",
   "execution_count": 88,
   "outputs": [],
   "source": [
    "x1,x2,y1,y2=train_test_split(x,y,test_size=0.2)\n",
    "x1=model_preprocess.fit_transform(x1)\n",
    "x2=model_preprocess.transform(x2)"
   ],
   "metadata": {
    "collapsed": false,
    "pycharm": {
     "name": "#%%\n"
    }
   }
  },
  {
   "cell_type": "markdown",
   "source": [
    "Обучим модель линейного стохастического градиента.\n",
    "\n",
    "Принцип работы - итеративая подстройка линейного классификатора с помощью градиентного спуска.\n",
    "\n",
    "В качестве ошибки будем принимать абсолютную среднюю ошибку - она более устойчива к нестандартным значениям,\n",
    "чем средний квадрат ошибки."
   ],
   "metadata": {
    "collapsed": false,
    "pycharm": {
     "name": "#%% md\n"
    }
   }
  },
  {
   "cell_type": "markdown",
   "source": [
    "Ошибка составила примерно 30"
   ],
   "metadata": {
    "collapsed": false
   }
  },
  {
   "cell_type": "code",
   "source": [
    "model =make_pipeline(StandardScaler(),SGDRegressor())\n",
    "y_model=model.fit(x1,y1).predict(x2)\n",
    "mean_absolute_error(y2,y_model)"
   ],
   "metadata": {
    "collapsed": false,
    "pycharm": {
     "name": "#%%\n"
    }
   },
   "execution_count": 71,
   "outputs": [
    {
     "data": {
      "text/plain": "30.451751029693913"
     },
     "execution_count": 71,
     "metadata": {},
     "output_type": "execute_result"
    }
   ]
  },
  {
   "cell_type": "markdown",
   "source": [
    "Применим метод ближайших соседей - он основан на поиске ближайших соседей в метрическом пространстве\n",
    "и усреднении их целевого значения."
   ],
   "metadata": {
    "collapsed": false,
    "pycharm": {
     "name": "#%% md\n"
    }
   }
  },
  {
   "cell_type": "code",
   "execution_count": 72,
   "outputs": [
    {
     "data": {
      "text/plain": "21.208348763710728"
     },
     "execution_count": 72,
     "metadata": {},
     "output_type": "execute_result"
    }
   ],
   "source": [
    "model =make_pipeline(StandardScaler(),KNeighborsRegressor())\n",
    "y_model=model.fit(x1,y1).predict(x2)\n",
    "mean_absolute_error(y2,y_model)"
   ],
   "metadata": {
    "collapsed": false,
    "pycharm": {
     "name": "#%%\n"
    }
   }
  },
  {
   "cell_type": "markdown",
   "source": [
    "Ошибка уменьшилась и составила примерно 21"
   ],
   "metadata": {
    "collapsed": false,
    "pycharm": {
     "name": "#%% md\n"
    }
   }
  },
  {
   "cell_type": "markdown",
   "source": [
    "Обучим модель метода опорных векторов, который ищет разделяющую поверхность, максимизирующую\n",
    "дистанцию от объектов разных классов."
   ],
   "metadata": {
    "collapsed": false,
    "pycharm": {
     "name": "#%% md\n"
    }
   }
  },
  {
   "cell_type": "code",
   "execution_count": 89,
   "outputs": [
    {
     "data": {
      "text/plain": "25.62888579137707"
     },
     "execution_count": 89,
     "metadata": {},
     "output_type": "execute_result"
    }
   ],
   "source": [
    "model =make_pipeline(StandardScaler(),SVR())\n",
    "y_model=model.fit(x1,y1).predict(x2)\n",
    "mean_absolute_error(y2,y_model)"
   ],
   "metadata": {
    "collapsed": false,
    "pycharm": {
     "name": "#%%\n"
    }
   }
  },
  {
   "cell_type": "markdown",
   "source": [
    "Ошибка стала меньше чем у SGD, но больше, чем у knn и примерно равна 25"
   ],
   "metadata": {
    "collapsed": false,
    "pycharm": {
     "name": "#%% md\n"
    }
   }
  },
  {
   "cell_type": "markdown",
   "source": [
    "Чтобы еще уменьшить ошибку - выделим новый признак, \"престиж\", для этого напишем свою реализацию класса\n",
    "Estimator, который внутри находит удельную цену квартир поблизости и рассчитывает приблизительную цену для нового объекта.\n",
    "\n",
    "Расстояние считается из приближения, что земля - идеальный шар."
   ],
   "metadata": {
    "collapsed": false,
    "pycharm": {
     "name": "#%% md\n"
    }
   }
  },
  {
   "cell_type": "code",
   "execution_count": 74,
   "outputs": [],
   "source": [
    "@nb.njit\n",
    "def latlon_dist(lat1,lon1,lat2,lon2):\n",
    "    lat1 = radians(lat1)\n",
    "    lon1 = radians(lon1)\n",
    "    lat2 = radians(lat2)\n",
    "    lon2 = radians(lon2)\n",
    "\n",
    "    # approximate radius of earth in km\n",
    "    R = 6373.0\n",
    "    dlon = lon2 - lon1\n",
    "    dlat = lat2 - lat1\n",
    "\n",
    "    a = sin(dlat / 2)**2 + cos(lat1) * cos(lat2) * sin(dlon / 2)**2\n",
    "    c = 2 * atan2(sqrt(a), sqrt(1 - a))\n",
    "\n",
    "    distance = R * c\n",
    "    return distance\n",
    "@nb.njit\n",
    "def wraper_latlon_dist(x,y):\n",
    "    return latlon_dist(x[0],x[1],y[0],y[1])\n"
   ],
   "metadata": {
    "collapsed": false,
    "pycharm": {
     "name": "#%%\n"
    }
   }
  },
  {
   "cell_type": "markdown",
   "source": [
    "KnnPrice прогнозирует престиж непрерывно, а KnnPrice2 делит на n классов (можно интерпретировать как\n",
    "плохой район... престижный район)"
   ],
   "metadata": {
    "collapsed": false,
    "pycharm": {
     "name": "#%% md\n"
    }
   }
  },
  {
   "cell_type": "code",
   "execution_count": 75,
   "outputs": [],
   "source": [
    "class KnnPrice(BaseEstimator,):\n",
    "\n",
    "    def __init__(self, lat='LATITUDE',lon='LONGITUDE',rooms='BHK_NO.',n_neighbors=5,weights='uniform',algorithm='auto'):\n",
    "        self.rooms=rooms\n",
    "        self.lat=lat\n",
    "        self.lon=lon\n",
    "        self.n_neighbors=n_neighbors\n",
    "        self.weights=weights\n",
    "        self.algorithm=algorithm\n",
    "    def fit(self,x,y):\n",
    "        price=y/x[self.rooms]\n",
    "        self.knn=KNeighborsRegressor(n_neighbors=self.n_neighbors,\n",
    "                                     weights=self.weights,algorithm=self.algorithm,\n",
    "                                     metric=wraper_latlon_dist)\n",
    "        self.knn.fit(x[[self.lat,self.lon]],price)\n",
    "        return self\n",
    "    def transform(self,x):\n",
    "        # x['knn_price']=self.knn.predict(x)\n",
    "        return x.assign(knn_price=self.knn.predict(x[[self.lat,self.lon]]))\n",
    "        # return x\n",
    "class KnnPrice2(BaseEstimator,):\n",
    "\n",
    "    def __init__(self, lat='LATITUDE',lon='LONGITUDE',rooms='BHK_NO.',n_neighbors=5,weights='uniform',algorithm='auto'):\n",
    "        self.rooms=rooms\n",
    "        self.lat=lat\n",
    "        self.lon=lon\n",
    "        self.n_neighbors=n_neighbors\n",
    "        self.weights=weights\n",
    "        self.algorithm=algorithm\n",
    "    def fit(self,x,y):\n",
    "        price=y/x[self.rooms]\n",
    "\n",
    "        target =pd.qcut(price,np.linspace(0,1,6),labels=False)\n",
    "        self.knn=KNeighborsClassifier(n_neighbors=self.n_neighbors,\n",
    "                                     weights=self.weights,algorithm=self.algorithm,\n",
    "                                     metric=wraper_latlon_dist)\n",
    "        self.knn.fit(x[[self.lat,self.lon]],target)\n",
    "        return self\n",
    "    def transform(self,x):\n",
    "        # x['knn_price']=self.knn.predict(x)\n",
    "        return x.assign(knn_price=self.knn.predict(x[[self.lat,self.lon]]))"
   ],
   "metadata": {
    "collapsed": false,
    "pycharm": {
     "name": "#%%\n"
    }
   }
  },
  {
   "cell_type": "code",
   "execution_count": 76,
   "outputs": [
    {
     "data": {
      "text/plain": "  POSTED_BY  UNDER_CONSTRUCTION  RERA  BHK_NO. BHK_OR_RK    SQUARE_FT  \\\n0     Owner                   0     0        2       BHK  1300.236407   \n1    Dealer                   0     0        2       BHK  1275.000000   \n2     Owner                   0     0        2       BHK   933.159722   \n3     Owner                   0     1        2       BHK   929.921143   \n4    Dealer                   1     0        2       BHK   999.009247   \n\n   READY_TO_MOVE  RESALE                      ADDRESS  LONGITUDE   LATITUDE  \\\n0              1       1        Ksfc Layout,Bangalore  12.969910  77.597960   \n1              1       1    Vishweshwara Nagar,Mysore  12.274538  76.644605   \n2              1       1             Jigani,Bangalore  12.778033  77.632191   \n3              1       1  Sector-1 Vaishali,Ghaziabad  28.642300  77.344500   \n4              0       1             New Town,Kolkata  22.592200  88.484911   \n\n   TARGET(PRICE_IN_LACS)          state  \n0                   55.0      Karnataka  \n1                   51.0      Karnataka  \n2                   43.0      Karnataka  \n3                   62.5  Uttar Pradesh  \n4                   60.5    West Bengal  ",
      "text/html": "<div>\n<style scoped>\n    .dataframe tbody tr th:only-of-type {\n        vertical-align: middle;\n    }\n\n    .dataframe tbody tr th {\n        vertical-align: top;\n    }\n\n    .dataframe thead th {\n        text-align: right;\n    }\n</style>\n<table border=\"1\" class=\"dataframe\">\n  <thead>\n    <tr style=\"text-align: right;\">\n      <th></th>\n      <th>POSTED_BY</th>\n      <th>UNDER_CONSTRUCTION</th>\n      <th>RERA</th>\n      <th>BHK_NO.</th>\n      <th>BHK_OR_RK</th>\n      <th>SQUARE_FT</th>\n      <th>READY_TO_MOVE</th>\n      <th>RESALE</th>\n      <th>ADDRESS</th>\n      <th>LONGITUDE</th>\n      <th>LATITUDE</th>\n      <th>TARGET(PRICE_IN_LACS)</th>\n      <th>state</th>\n    </tr>\n  </thead>\n  <tbody>\n    <tr>\n      <th>0</th>\n      <td>Owner</td>\n      <td>0</td>\n      <td>0</td>\n      <td>2</td>\n      <td>BHK</td>\n      <td>1300.236407</td>\n      <td>1</td>\n      <td>1</td>\n      <td>Ksfc Layout,Bangalore</td>\n      <td>12.969910</td>\n      <td>77.597960</td>\n      <td>55.0</td>\n      <td>Karnataka</td>\n    </tr>\n    <tr>\n      <th>1</th>\n      <td>Dealer</td>\n      <td>0</td>\n      <td>0</td>\n      <td>2</td>\n      <td>BHK</td>\n      <td>1275.000000</td>\n      <td>1</td>\n      <td>1</td>\n      <td>Vishweshwara Nagar,Mysore</td>\n      <td>12.274538</td>\n      <td>76.644605</td>\n      <td>51.0</td>\n      <td>Karnataka</td>\n    </tr>\n    <tr>\n      <th>2</th>\n      <td>Owner</td>\n      <td>0</td>\n      <td>0</td>\n      <td>2</td>\n      <td>BHK</td>\n      <td>933.159722</td>\n      <td>1</td>\n      <td>1</td>\n      <td>Jigani,Bangalore</td>\n      <td>12.778033</td>\n      <td>77.632191</td>\n      <td>43.0</td>\n      <td>Karnataka</td>\n    </tr>\n    <tr>\n      <th>3</th>\n      <td>Owner</td>\n      <td>0</td>\n      <td>1</td>\n      <td>2</td>\n      <td>BHK</td>\n      <td>929.921143</td>\n      <td>1</td>\n      <td>1</td>\n      <td>Sector-1 Vaishali,Ghaziabad</td>\n      <td>28.642300</td>\n      <td>77.344500</td>\n      <td>62.5</td>\n      <td>Uttar Pradesh</td>\n    </tr>\n    <tr>\n      <th>4</th>\n      <td>Dealer</td>\n      <td>1</td>\n      <td>0</td>\n      <td>2</td>\n      <td>BHK</td>\n      <td>999.009247</td>\n      <td>0</td>\n      <td>1</td>\n      <td>New Town,Kolkata</td>\n      <td>22.592200</td>\n      <td>88.484911</td>\n      <td>60.5</td>\n      <td>West Bengal</td>\n    </tr>\n  </tbody>\n</table>\n</div>"
     },
     "execution_count": 76,
     "metadata": {},
     "output_type": "execute_result"
    }
   ],
   "source": [
    "df.head()"
   ],
   "metadata": {
    "collapsed": false,
    "pycharm": {
     "name": "#%%\n"
    }
   }
  },
  {
   "cell_type": "markdown",
   "source": [
    "Создадим новый препроцессор с новым признаком"
   ],
   "metadata": {
    "collapsed": false,
    "pycharm": {
     "name": "#%% md\n"
    }
   }
  },
  {
   "cell_type": "code",
   "execution_count": 77,
   "outputs": [],
   "source": [
    "model_preprocess=make_pipeline(KnnPrice(),ColumnTransformer([\n",
    "    # ('standart_scale', StandardScaler(),['SQUARE_FT','LONGITUDE','LATITUDE','knn_price']),\n",
    "    ('standart_scale', StandardScaler(),['SQUARE_FT','LONGITUDE','LATITUDE']),\n",
    "    ('original_encode',OrdinalEncoder(categories=[['BHK','RK']]),['BHK_OR_RK']),\n",
    "    ('ohe',OneHotEncoder(sparse=False),['POSTED_BY',]),\n",
    "    # ('ohe',OneHotEncoder(sparse=False),['POSTED_BY','state']),\n",
    "    # ('drop','drop',['ADDRESS',])\n",
    "    # ('drop','drop',['ADDRESS','state'])\n",
    "],\n",
    "    remainder='passthrough'),\n",
    "                                # PolynomialFeatures(degree=2),\n",
    "                                # SelectFromModel(estimator=ExtraTreesRegressor(n_estimators=50)),\n",
    "                     )\n",
    "\n"
   ],
   "metadata": {
    "collapsed": false,
    "pycharm": {
     "name": "#%%\n"
    }
   }
  },
  {
   "cell_type": "code",
   "execution_count": 78,
   "outputs": [],
   "source": [
    "\n",
    "\n",
    "x1,x2,y1,y2=train_test_split(x,y,test_size=0.2)\n",
    "x1 = model_preprocess.fit_transform(x1,y1)\n",
    "x2 = model_preprocess.transform(x2)\n"
   ],
   "metadata": {
    "collapsed": false,
    "pycharm": {
     "name": "#%%\n"
    }
   }
  },
  {
   "cell_type": "markdown",
   "source": [
    "Воспользуемся более мощным инструментом - градиентным бустингом, идея которого заключается в\n",
    "создании ансамбля простых моделей, которые дают суммарный вклад в выход модели и оптимизация происходит\n",
    "с учетом предыдущих весов преыдущих моделей."
   ],
   "metadata": {
    "collapsed": false,
    "pycharm": {
     "name": "#%% md\n"
    }
   }
  },
  {
   "cell_type": "markdown",
   "source": [
    "Для поиска гиперпараметров будем использовать ray - библиотеку дял распределенный вычислений,\n",
    "поиск гиперпараметров это идеально распараллеливаемая операция. Найдем оптимальные параметры глубины, скорости обучения\n",
    "\n",
    "В качестве библиотеки для градиентного бустинга используем cat boost, так как она может обрабатывать категориальные данные."
   ],
   "metadata": {
    "collapsed": false,
    "pycharm": {
     "name": "#%% md\n"
    }
   }
  },
  {
   "cell_type": "code",
   "execution_count": 79,
   "outputs": [
    {
     "name": "stdout",
     "output_type": "stream",
     "text": [
      "\u001B[33mWARNING: Skipping dataclasses as it is not installed.\u001B[0m\r\n"
     ]
    }
   ],
   "source": [
    "!pip install -q  ray[tune] ray[all] tune-sklearn hyperopt catboost\n",
    "!pip uninstall -q -y dataclasses"
   ],
   "metadata": {
    "collapsed": false,
    "pycharm": {
     "name": "#%%\n"
    }
   }
  },
  {
   "cell_type": "code",
   "execution_count": 80,
   "outputs": [],
   "source": [
    "import ray\n",
    "\n",
    "if ray.is_initialized() is False:\n",
    "    ray.init()"
   ],
   "metadata": {
    "collapsed": false,
    "pycharm": {
     "name": "#%%\n"
    }
   }
  },
  {
   "cell_type": "code",
   "execution_count": 81,
   "outputs": [],
   "source": [
    "from ray import tune\n",
    "import hyperopt as hp\n",
    "from ray.tune.suggest.hyperopt import HyperOptSearch\n",
    "from catboost import CatBoostClassifier,CatBoostRegressor,Pool"
   ],
   "metadata": {
    "collapsed": false,
    "pycharm": {
     "name": "#%%\n"
    }
   }
  },
  {
   "cell_type": "code",
   "execution_count": 82,
   "outputs": [],
   "source": [
    "# !cd ~/  && rm -rf ./ray_results"
   ],
   "metadata": {
    "collapsed": false,
    "pycharm": {
     "name": "#%%\n"
    }
   }
  },
  {
   "cell_type": "code",
   "execution_count": 83,
   "outputs": [
    {
     "data": {
      "text/plain": "<IPython.core.display.HTML object>",
      "text/html": "== Status ==<br>Memory usage on this node: 1.9/17.6 GiB<br>Using FIFO scheduling algorithm.<br>Resources requested: 1/4 CPUs, 0/0 GPUs, 0.0/8.94 GiB heap, 0.0/3.08 GiB objects<br>Result logdir: /root/ray_results/my_optim<br>Number of trials: 1/10 (1 RUNNING)<br><table>\n<thead>\n<tr><th>Trial name                   </th><th>status  </th><th>loc  </th><th style=\"text-align: right;\">  depth</th><th style=\"text-align: right;\">  learning_rate</th></tr>\n</thead>\n<tbody>\n<tr><td>training_function_08497_00000</td><td>RUNNING </td><td>     </td><td style=\"text-align: right;\">      2</td><td style=\"text-align: right;\">       0.189619</td></tr>\n</tbody>\n</table><br><br>"
     },
     "metadata": {},
     "output_type": "display_data"
    },
    {
     "name": "stdout",
     "output_type": "stream",
     "text": [
      "Result for training_function_08497_00001:\n",
      "  date: 2021-04-13_05-14-40\n",
      "  done: false\n",
      "  experiment_id: 953948127c7a452fa8a4edb43d7b6ebf\n",
      "  hostname: 8da1837b6ed0\n",
      "  iterations_since_restore: 1\n",
      "  node_ip: 172.19.2.2\n",
      "  pid: 398\n",
      "  score: 18.431417244016764\n",
      "  time_since_restore: 46.60598182678223\n",
      "  time_this_iter_s: 46.60598182678223\n",
      "  time_total_s: 46.60598182678223\n",
      "  timestamp: 1618290880\n",
      "  timesteps_since_restore: 0\n",
      "  training_iteration: 1\n",
      "  trial_id: 08497_00001\n",
      "  \n"
     ]
    },
    {
     "data": {
      "text/plain": "<IPython.core.display.HTML object>",
      "text/html": "== Status ==<br>Memory usage on this node: 2.5/17.6 GiB<br>Using FIFO scheduling algorithm.<br>Resources requested: 4/4 CPUs, 0/0 GPUs, 0.0/8.94 GiB heap, 0.0/3.08 GiB objects<br>Result logdir: /root/ray_results/my_optim<br>Number of trials: 5/10 (1 PENDING, 4 RUNNING)<br><table>\n<thead>\n<tr><th>Trial name                   </th><th>status  </th><th>loc           </th><th style=\"text-align: right;\">  depth</th><th style=\"text-align: right;\">  learning_rate</th><th style=\"text-align: right;\">  iter</th><th style=\"text-align: right;\">  total time (s)</th><th style=\"text-align: right;\">  score</th></tr>\n</thead>\n<tbody>\n<tr><td>training_function_08497_00000</td><td>RUNNING </td><td>              </td><td style=\"text-align: right;\">      2</td><td style=\"text-align: right;\">      0.189619 </td><td style=\"text-align: right;\">      </td><td style=\"text-align: right;\">                </td><td style=\"text-align: right;\">       </td></tr>\n<tr><td>training_function_08497_00001</td><td>RUNNING </td><td>172.19.2.2:398</td><td style=\"text-align: right;\">      1</td><td style=\"text-align: right;\">      0.497812 </td><td style=\"text-align: right;\">     1</td><td style=\"text-align: right;\">          46.606</td><td style=\"text-align: right;\">18.4314</td></tr>\n<tr><td>training_function_08497_00002</td><td>RUNNING </td><td>              </td><td style=\"text-align: right;\">      2</td><td style=\"text-align: right;\">      0.0726151</td><td style=\"text-align: right;\">      </td><td style=\"text-align: right;\">                </td><td style=\"text-align: right;\">       </td></tr>\n<tr><td>training_function_08497_00003</td><td>RUNNING </td><td>              </td><td style=\"text-align: right;\">      4</td><td style=\"text-align: right;\">      0.40902  </td><td style=\"text-align: right;\">      </td><td style=\"text-align: right;\">                </td><td style=\"text-align: right;\">       </td></tr>\n<tr><td>training_function_08497_00004</td><td>PENDING </td><td>              </td><td style=\"text-align: right;\">      2</td><td style=\"text-align: right;\">      0.195715 </td><td style=\"text-align: right;\">      </td><td style=\"text-align: right;\">                </td><td style=\"text-align: right;\">       </td></tr>\n</tbody>\n</table><br><br>"
     },
     "metadata": {},
     "output_type": "display_data"
    },
    {
     "name": "stdout",
     "output_type": "stream",
     "text": [
      "Result for training_function_08497_00001:\n",
      "  date: 2021-04-13_05-14-40\n",
      "  done: true\n",
      "  experiment_id: 953948127c7a452fa8a4edb43d7b6ebf\n",
      "  experiment_tag: 1_depth=1,learning_rate=0.49781\n",
      "  hostname: 8da1837b6ed0\n",
      "  iterations_since_restore: 1\n",
      "  node_ip: 172.19.2.2\n",
      "  pid: 398\n",
      "  score: 18.431417244016764\n",
      "  time_since_restore: 46.60598182678223\n",
      "  time_this_iter_s: 46.60598182678223\n",
      "  time_total_s: 46.60598182678223\n",
      "  timestamp: 1618290880\n",
      "  timesteps_since_restore: 0\n",
      "  training_iteration: 1\n",
      "  trial_id: 08497_00001\n",
      "  \n",
      "Result for training_function_08497_00002:\n",
      "  date: 2021-04-13_05-14-57\n",
      "  done: false\n",
      "  experiment_id: a435a2d42ea944e598e0f68c929b0f55\n",
      "  hostname: 8da1837b6ed0\n",
      "  iterations_since_restore: 1\n",
      "  node_ip: 172.19.2.2\n",
      "  pid: 401\n",
      "  score: 14.947117684526768\n",
      "  time_since_restore: 63.96499848365784\n",
      "  time_this_iter_s: 63.96499848365784\n",
      "  time_total_s: 63.96499848365784\n",
      "  timestamp: 1618290897\n",
      "  timesteps_since_restore: 0\n",
      "  training_iteration: 1\n",
      "  trial_id: 08497_00002\n",
      "  \n"
     ]
    },
    {
     "data": {
      "text/plain": "<IPython.core.display.HTML object>",
      "text/html": "== Status ==<br>Memory usage on this node: 2.5/17.6 GiB<br>Using FIFO scheduling algorithm.<br>Resources requested: 4/4 CPUs, 0/0 GPUs, 0.0/8.94 GiB heap, 0.0/3.08 GiB objects<br>Result logdir: /root/ray_results/my_optim<br>Number of trials: 6/10 (1 PENDING, 4 RUNNING, 1 TERMINATED)<br><table>\n<thead>\n<tr><th>Trial name                   </th><th>status    </th><th>loc           </th><th style=\"text-align: right;\">  depth</th><th style=\"text-align: right;\">  learning_rate</th><th style=\"text-align: right;\">  iter</th><th style=\"text-align: right;\">  total time (s)</th><th style=\"text-align: right;\">  score</th></tr>\n</thead>\n<tbody>\n<tr><td>training_function_08497_00000</td><td>RUNNING   </td><td>              </td><td style=\"text-align: right;\">      2</td><td style=\"text-align: right;\">      0.189619 </td><td style=\"text-align: right;\">      </td><td style=\"text-align: right;\">                </td><td style=\"text-align: right;\">       </td></tr>\n<tr><td>training_function_08497_00002</td><td>RUNNING   </td><td>172.19.2.2:401</td><td style=\"text-align: right;\">      2</td><td style=\"text-align: right;\">      0.0726151</td><td style=\"text-align: right;\">     1</td><td style=\"text-align: right;\">          63.965</td><td style=\"text-align: right;\">14.9471</td></tr>\n<tr><td>training_function_08497_00003</td><td>RUNNING   </td><td>              </td><td style=\"text-align: right;\">      4</td><td style=\"text-align: right;\">      0.40902  </td><td style=\"text-align: right;\">      </td><td style=\"text-align: right;\">                </td><td style=\"text-align: right;\">       </td></tr>\n<tr><td>training_function_08497_00004</td><td>RUNNING   </td><td>              </td><td style=\"text-align: right;\">      2</td><td style=\"text-align: right;\">      0.195715 </td><td style=\"text-align: right;\">      </td><td style=\"text-align: right;\">                </td><td style=\"text-align: right;\">       </td></tr>\n<tr><td>training_function_08497_00005</td><td>PENDING   </td><td>              </td><td style=\"text-align: right;\">      3</td><td style=\"text-align: right;\">      0.0307535</td><td style=\"text-align: right;\">      </td><td style=\"text-align: right;\">                </td><td style=\"text-align: right;\">       </td></tr>\n<tr><td>training_function_08497_00001</td><td>TERMINATED</td><td>              </td><td style=\"text-align: right;\">      1</td><td style=\"text-align: right;\">      0.497812 </td><td style=\"text-align: right;\">     1</td><td style=\"text-align: right;\">          46.606</td><td style=\"text-align: right;\">18.4314</td></tr>\n</tbody>\n</table><br><br>"
     },
     "metadata": {},
     "output_type": "display_data"
    },
    {
     "name": "stdout",
     "output_type": "stream",
     "text": [
      "Result for training_function_08497_00002:\n",
      "  date: 2021-04-13_05-14-57\n",
      "  done: true\n",
      "  experiment_id: a435a2d42ea944e598e0f68c929b0f55\n",
      "  experiment_tag: 2_depth=2,learning_rate=0.072615\n",
      "  hostname: 8da1837b6ed0\n",
      "  iterations_since_restore: 1\n",
      "  node_ip: 172.19.2.2\n",
      "  pid: 401\n",
      "  score: 14.947117684526768\n",
      "  time_since_restore: 63.96499848365784\n",
      "  time_this_iter_s: 63.96499848365784\n",
      "  time_total_s: 63.96499848365784\n",
      "  timestamp: 1618290897\n",
      "  timesteps_since_restore: 0\n",
      "  training_iteration: 1\n",
      "  trial_id: 08497_00002\n",
      "  \n",
      "Result for training_function_08497_00000:\n",
      "  date: 2021-04-13_05-14-59\n",
      "  done: false\n",
      "  experiment_id: 93a8226a8e0d4b049a4312a711791139\n",
      "  hostname: 8da1837b6ed0\n",
      "  iterations_since_restore: 1\n",
      "  node_ip: 172.19.2.2\n",
      "  pid: 400\n",
      "  score: 14.642999992202109\n",
      "  time_since_restore: 66.50356101989746\n",
      "  time_this_iter_s: 66.50356101989746\n",
      "  time_total_s: 66.50356101989746\n",
      "  timestamp: 1618290899\n",
      "  timesteps_since_restore: 0\n",
      "  training_iteration: 1\n",
      "  trial_id: 08497_00000\n",
      "  \n",
      "Result for training_function_08497_00000:\n",
      "  date: 2021-04-13_05-14-59\n",
      "  done: true\n",
      "  experiment_id: 93a8226a8e0d4b049a4312a711791139\n",
      "  experiment_tag: 0_depth=2,learning_rate=0.18962\n",
      "  hostname: 8da1837b6ed0\n",
      "  iterations_since_restore: 1\n",
      "  node_ip: 172.19.2.2\n",
      "  pid: 400\n",
      "  score: 14.642999992202109\n",
      "  time_since_restore: 66.50356101989746\n",
      "  time_this_iter_s: 66.50356101989746\n",
      "  time_total_s: 66.50356101989746\n",
      "  timestamp: 1618290899\n",
      "  timesteps_since_restore: 0\n",
      "  training_iteration: 1\n",
      "  trial_id: 08497_00000\n",
      "  \n",
      "Result for training_function_08497_00004:\n",
      "  date: 2021-04-13_05-15-51\n",
      "  done: false\n",
      "  experiment_id: a4cf01a4d33648e48c917822fa36549a\n",
      "  hostname: 8da1837b6ed0\n",
      "  iterations_since_restore: 1\n",
      "  node_ip: 172.19.2.2\n",
      "  pid: 684\n",
      "  score: 14.645205800113839\n",
      "  time_since_restore: 64.52589654922485\n",
      "  time_this_iter_s: 64.52589654922485\n",
      "  time_total_s: 64.52589654922485\n",
      "  timestamp: 1618290951\n",
      "  timesteps_since_restore: 0\n",
      "  training_iteration: 1\n",
      "  trial_id: 08497_00004\n",
      "  \n"
     ]
    },
    {
     "data": {
      "text/plain": "<IPython.core.display.HTML object>",
      "text/html": "== Status ==<br>Memory usage on this node: 2.6/17.6 GiB<br>Using FIFO scheduling algorithm.<br>Resources requested: 4/4 CPUs, 0/0 GPUs, 0.0/8.94 GiB heap, 0.0/3.08 GiB objects<br>Result logdir: /root/ray_results/my_optim<br>Number of trials: 8/10 (1 PENDING, 4 RUNNING, 3 TERMINATED)<br><table>\n<thead>\n<tr><th>Trial name                   </th><th>status    </th><th>loc           </th><th style=\"text-align: right;\">  depth</th><th style=\"text-align: right;\">  learning_rate</th><th style=\"text-align: right;\">  iter</th><th style=\"text-align: right;\">  total time (s)</th><th style=\"text-align: right;\">  score</th></tr>\n</thead>\n<tbody>\n<tr><td>training_function_08497_00003</td><td>RUNNING   </td><td>              </td><td style=\"text-align: right;\">      4</td><td style=\"text-align: right;\">      0.40902  </td><td style=\"text-align: right;\">      </td><td style=\"text-align: right;\">                </td><td style=\"text-align: right;\">       </td></tr>\n<tr><td>training_function_08497_00004</td><td>RUNNING   </td><td>172.19.2.2:684</td><td style=\"text-align: right;\">      2</td><td style=\"text-align: right;\">      0.195715 </td><td style=\"text-align: right;\">     1</td><td style=\"text-align: right;\">         64.5259</td><td style=\"text-align: right;\">14.6452</td></tr>\n<tr><td>training_function_08497_00005</td><td>RUNNING   </td><td>              </td><td style=\"text-align: right;\">      3</td><td style=\"text-align: right;\">      0.0307535</td><td style=\"text-align: right;\">      </td><td style=\"text-align: right;\">                </td><td style=\"text-align: right;\">       </td></tr>\n<tr><td>training_function_08497_00006</td><td>RUNNING   </td><td>              </td><td style=\"text-align: right;\">      2</td><td style=\"text-align: right;\">      0.75078  </td><td style=\"text-align: right;\">      </td><td style=\"text-align: right;\">                </td><td style=\"text-align: right;\">       </td></tr>\n<tr><td>training_function_08497_00007</td><td>PENDING   </td><td>              </td><td style=\"text-align: right;\">      2</td><td style=\"text-align: right;\">      0.992778 </td><td style=\"text-align: right;\">      </td><td style=\"text-align: right;\">                </td><td style=\"text-align: right;\">       </td></tr>\n<tr><td>training_function_08497_00000</td><td>TERMINATED</td><td>              </td><td style=\"text-align: right;\">      2</td><td style=\"text-align: right;\">      0.189619 </td><td style=\"text-align: right;\">     1</td><td style=\"text-align: right;\">         66.5036</td><td style=\"text-align: right;\">14.643 </td></tr>\n<tr><td>training_function_08497_00001</td><td>TERMINATED</td><td>              </td><td style=\"text-align: right;\">      1</td><td style=\"text-align: right;\">      0.497812 </td><td style=\"text-align: right;\">     1</td><td style=\"text-align: right;\">         46.606 </td><td style=\"text-align: right;\">18.4314</td></tr>\n<tr><td>training_function_08497_00002</td><td>TERMINATED</td><td>              </td><td style=\"text-align: right;\">      2</td><td style=\"text-align: right;\">      0.0726151</td><td style=\"text-align: right;\">     1</td><td style=\"text-align: right;\">         63.965 </td><td style=\"text-align: right;\">14.9471</td></tr>\n</tbody>\n</table><br><br>"
     },
     "metadata": {},
     "output_type": "display_data"
    },
    {
     "name": "stdout",
     "output_type": "stream",
     "text": [
      "Result for training_function_08497_00004:\n",
      "  date: 2021-04-13_05-15-51\n",
      "  done: true\n",
      "  experiment_id: a4cf01a4d33648e48c917822fa36549a\n",
      "  experiment_tag: 4_depth=2,learning_rate=0.19571\n",
      "  hostname: 8da1837b6ed0\n",
      "  iterations_since_restore: 1\n",
      "  node_ip: 172.19.2.2\n",
      "  pid: 684\n",
      "  score: 14.645205800113839\n",
      "  time_since_restore: 64.52589654922485\n",
      "  time_this_iter_s: 64.52589654922485\n",
      "  time_total_s: 64.52589654922485\n",
      "  timestamp: 1618290951\n",
      "  timesteps_since_restore: 0\n",
      "  training_iteration: 1\n",
      "  trial_id: 08497_00004\n",
      "  \n",
      "Result for training_function_08497_00003:\n",
      "  date: 2021-04-13_05-15-58\n",
      "  done: false\n",
      "  experiment_id: a17c0e3a4f5741aa839b7b769c57acf3\n",
      "  hostname: 8da1837b6ed0\n",
      "  iterations_since_restore: 1\n",
      "  node_ip: 172.19.2.2\n",
      "  pid: 564\n",
      "  score: 13.757660990058657\n",
      "  time_since_restore: 122.33354711532593\n",
      "  time_this_iter_s: 122.33354711532593\n",
      "  time_total_s: 122.33354711532593\n",
      "  timestamp: 1618290958\n",
      "  timesteps_since_restore: 0\n",
      "  training_iteration: 1\n",
      "  trial_id: 08497_00003\n",
      "  \n"
     ]
    },
    {
     "data": {
      "text/plain": "<IPython.core.display.HTML object>",
      "text/html": "== Status ==<br>Memory usage on this node: 2.6/17.6 GiB<br>Using FIFO scheduling algorithm.<br>Resources requested: 4/4 CPUs, 0/0 GPUs, 0.0/8.94 GiB heap, 0.0/3.08 GiB objects<br>Result logdir: /root/ray_results/my_optim<br>Number of trials: 9/10 (1 PENDING, 4 RUNNING, 4 TERMINATED)<br><table>\n<thead>\n<tr><th>Trial name                   </th><th>status    </th><th>loc           </th><th style=\"text-align: right;\">  depth</th><th style=\"text-align: right;\">  learning_rate</th><th style=\"text-align: right;\">  iter</th><th style=\"text-align: right;\">  total time (s)</th><th style=\"text-align: right;\">  score</th></tr>\n</thead>\n<tbody>\n<tr><td>training_function_08497_00003</td><td>RUNNING   </td><td>172.19.2.2:564</td><td style=\"text-align: right;\">      4</td><td style=\"text-align: right;\">      0.40902  </td><td style=\"text-align: right;\">     1</td><td style=\"text-align: right;\">        122.334 </td><td style=\"text-align: right;\">13.7577</td></tr>\n<tr><td>training_function_08497_00005</td><td>RUNNING   </td><td>              </td><td style=\"text-align: right;\">      3</td><td style=\"text-align: right;\">      0.0307535</td><td style=\"text-align: right;\">      </td><td style=\"text-align: right;\">                </td><td style=\"text-align: right;\">       </td></tr>\n<tr><td>training_function_08497_00006</td><td>RUNNING   </td><td>              </td><td style=\"text-align: right;\">      2</td><td style=\"text-align: right;\">      0.75078  </td><td style=\"text-align: right;\">      </td><td style=\"text-align: right;\">                </td><td style=\"text-align: right;\">       </td></tr>\n<tr><td>training_function_08497_00007</td><td>RUNNING   </td><td>              </td><td style=\"text-align: right;\">      2</td><td style=\"text-align: right;\">      0.992778 </td><td style=\"text-align: right;\">      </td><td style=\"text-align: right;\">                </td><td style=\"text-align: right;\">       </td></tr>\n<tr><td>training_function_08497_00008</td><td>PENDING   </td><td>              </td><td style=\"text-align: right;\">      1</td><td style=\"text-align: right;\">      0.260938 </td><td style=\"text-align: right;\">      </td><td style=\"text-align: right;\">                </td><td style=\"text-align: right;\">       </td></tr>\n<tr><td>training_function_08497_00000</td><td>TERMINATED</td><td>              </td><td style=\"text-align: right;\">      2</td><td style=\"text-align: right;\">      0.189619 </td><td style=\"text-align: right;\">     1</td><td style=\"text-align: right;\">         66.5036</td><td style=\"text-align: right;\">14.643 </td></tr>\n<tr><td>training_function_08497_00001</td><td>TERMINATED</td><td>              </td><td style=\"text-align: right;\">      1</td><td style=\"text-align: right;\">      0.497812 </td><td style=\"text-align: right;\">     1</td><td style=\"text-align: right;\">         46.606 </td><td style=\"text-align: right;\">18.4314</td></tr>\n<tr><td>training_function_08497_00002</td><td>TERMINATED</td><td>              </td><td style=\"text-align: right;\">      2</td><td style=\"text-align: right;\">      0.0726151</td><td style=\"text-align: right;\">     1</td><td style=\"text-align: right;\">         63.965 </td><td style=\"text-align: right;\">14.9471</td></tr>\n<tr><td>training_function_08497_00004</td><td>TERMINATED</td><td>              </td><td style=\"text-align: right;\">      2</td><td style=\"text-align: right;\">      0.195715 </td><td style=\"text-align: right;\">     1</td><td style=\"text-align: right;\">         64.5259</td><td style=\"text-align: right;\">14.6452</td></tr>\n</tbody>\n</table><br><br>"
     },
     "metadata": {},
     "output_type": "display_data"
    },
    {
     "name": "stdout",
     "output_type": "stream",
     "text": [
      "Result for training_function_08497_00003:\n",
      "  date: 2021-04-13_05-15-58\n",
      "  done: true\n",
      "  experiment_id: a17c0e3a4f5741aa839b7b769c57acf3\n",
      "  experiment_tag: 3_depth=4,learning_rate=0.40902\n",
      "  hostname: 8da1837b6ed0\n",
      "  iterations_since_restore: 1\n",
      "  node_ip: 172.19.2.2\n",
      "  pid: 564\n",
      "  score: 13.757660990058657\n",
      "  time_since_restore: 122.33354711532593\n",
      "  time_this_iter_s: 122.33354711532593\n",
      "  time_total_s: 122.33354711532593\n",
      "  timestamp: 1618290958\n",
      "  timesteps_since_restore: 0\n",
      "  training_iteration: 1\n",
      "  trial_id: 08497_00003\n",
      "  \n",
      "Result for training_function_08497_00006:\n",
      "  date: 2021-04-13_05-16-16\n",
      "  done: false\n",
      "  experiment_id: 4da9c0b3cda1496a9c5692c1a2192ae1\n",
      "  hostname: 8da1837b6ed0\n",
      "  iterations_since_restore: 1\n",
      "  node_ip: 172.19.2.2\n",
      "  pid: 753\n",
      "  score: 14.6470875706341\n",
      "  time_since_restore: 68.21108961105347\n",
      "  time_this_iter_s: 68.21108961105347\n",
      "  time_total_s: 68.21108961105347\n",
      "  timestamp: 1618290976\n",
      "  timesteps_since_restore: 0\n",
      "  training_iteration: 1\n",
      "  trial_id: 08497_00006\n",
      "  \n"
     ]
    },
    {
     "data": {
      "text/plain": "<IPython.core.display.HTML object>",
      "text/html": "== Status ==<br>Memory usage on this node: 2.8/17.6 GiB<br>Using FIFO scheduling algorithm.<br>Resources requested: 4/4 CPUs, 0/0 GPUs, 0.0/8.94 GiB heap, 0.0/3.08 GiB objects<br>Result logdir: /root/ray_results/my_optim<br>Number of trials: 10/10 (1 PENDING, 4 RUNNING, 5 TERMINATED)<br><table>\n<thead>\n<tr><th>Trial name                   </th><th>status    </th><th>loc           </th><th style=\"text-align: right;\">  depth</th><th style=\"text-align: right;\">  learning_rate</th><th style=\"text-align: right;\">  iter</th><th style=\"text-align: right;\">  total time (s)</th><th style=\"text-align: right;\">  score</th></tr>\n</thead>\n<tbody>\n<tr><td>training_function_08497_00005</td><td>RUNNING   </td><td>              </td><td style=\"text-align: right;\">      3</td><td style=\"text-align: right;\">      0.0307535</td><td style=\"text-align: right;\">      </td><td style=\"text-align: right;\">                </td><td style=\"text-align: right;\">       </td></tr>\n<tr><td>training_function_08497_00006</td><td>RUNNING   </td><td>172.19.2.2:753</td><td style=\"text-align: right;\">      2</td><td style=\"text-align: right;\">      0.75078  </td><td style=\"text-align: right;\">     1</td><td style=\"text-align: right;\">         68.2111</td><td style=\"text-align: right;\">14.6471</td></tr>\n<tr><td>training_function_08497_00007</td><td>RUNNING   </td><td>              </td><td style=\"text-align: right;\">      2</td><td style=\"text-align: right;\">      0.992778 </td><td style=\"text-align: right;\">      </td><td style=\"text-align: right;\">                </td><td style=\"text-align: right;\">       </td></tr>\n<tr><td>training_function_08497_00008</td><td>RUNNING   </td><td>              </td><td style=\"text-align: right;\">      1</td><td style=\"text-align: right;\">      0.260938 </td><td style=\"text-align: right;\">      </td><td style=\"text-align: right;\">                </td><td style=\"text-align: right;\">       </td></tr>\n<tr><td>training_function_08497_00009</td><td>PENDING   </td><td>              </td><td style=\"text-align: right;\">      3</td><td style=\"text-align: right;\">      0.70131  </td><td style=\"text-align: right;\">      </td><td style=\"text-align: right;\">                </td><td style=\"text-align: right;\">       </td></tr>\n<tr><td>training_function_08497_00000</td><td>TERMINATED</td><td>              </td><td style=\"text-align: right;\">      2</td><td style=\"text-align: right;\">      0.189619 </td><td style=\"text-align: right;\">     1</td><td style=\"text-align: right;\">         66.5036</td><td style=\"text-align: right;\">14.643 </td></tr>\n<tr><td>training_function_08497_00001</td><td>TERMINATED</td><td>              </td><td style=\"text-align: right;\">      1</td><td style=\"text-align: right;\">      0.497812 </td><td style=\"text-align: right;\">     1</td><td style=\"text-align: right;\">         46.606 </td><td style=\"text-align: right;\">18.4314</td></tr>\n<tr><td>training_function_08497_00002</td><td>TERMINATED</td><td>              </td><td style=\"text-align: right;\">      2</td><td style=\"text-align: right;\">      0.0726151</td><td style=\"text-align: right;\">     1</td><td style=\"text-align: right;\">         63.965 </td><td style=\"text-align: right;\">14.9471</td></tr>\n<tr><td>training_function_08497_00003</td><td>TERMINATED</td><td>              </td><td style=\"text-align: right;\">      4</td><td style=\"text-align: right;\">      0.40902  </td><td style=\"text-align: right;\">     1</td><td style=\"text-align: right;\">        122.334 </td><td style=\"text-align: right;\">13.7577</td></tr>\n<tr><td>training_function_08497_00004</td><td>TERMINATED</td><td>              </td><td style=\"text-align: right;\">      2</td><td style=\"text-align: right;\">      0.195715 </td><td style=\"text-align: right;\">     1</td><td style=\"text-align: right;\">         64.5259</td><td style=\"text-align: right;\">14.6452</td></tr>\n</tbody>\n</table><br><br>"
     },
     "metadata": {},
     "output_type": "display_data"
    },
    {
     "name": "stdout",
     "output_type": "stream",
     "text": [
      "Result for training_function_08497_00006:\n",
      "  date: 2021-04-13_05-16-16\n",
      "  done: true\n",
      "  experiment_id: 4da9c0b3cda1496a9c5692c1a2192ae1\n",
      "  experiment_tag: 6_depth=2,learning_rate=0.75078\n",
      "  hostname: 8da1837b6ed0\n",
      "  iterations_since_restore: 1\n",
      "  node_ip: 172.19.2.2\n",
      "  pid: 753\n",
      "  score: 14.6470875706341\n",
      "  time_since_restore: 68.21108961105347\n",
      "  time_this_iter_s: 68.21108961105347\n",
      "  time_total_s: 68.21108961105347\n",
      "  timestamp: 1618290976\n",
      "  timesteps_since_restore: 0\n",
      "  training_iteration: 1\n",
      "  trial_id: 08497_00006\n",
      "  \n",
      "Result for training_function_08497_00005:\n",
      "  date: 2021-04-13_05-16-31\n",
      "  done: false\n",
      "  experiment_id: f251823fe33546e0938825e970b7e58e\n",
      "  hostname: 8da1837b6ed0\n",
      "  iterations_since_restore: 1\n",
      "  node_ip: 172.19.2.2\n",
      "  pid: 735\n",
      "  score: 14.688391347453756\n",
      "  time_since_restore: 86.73629641532898\n",
      "  time_this_iter_s: 86.73629641532898\n",
      "  time_total_s: 86.73629641532898\n",
      "  timestamp: 1618290991\n",
      "  timesteps_since_restore: 0\n",
      "  training_iteration: 1\n",
      "  trial_id: 08497_00005\n",
      "  \n"
     ]
    },
    {
     "data": {
      "text/plain": "<IPython.core.display.HTML object>",
      "text/html": "== Status ==<br>Memory usage on this node: 2.8/17.6 GiB<br>Using FIFO scheduling algorithm.<br>Resources requested: 4/4 CPUs, 0/0 GPUs, 0.0/8.94 GiB heap, 0.0/3.08 GiB objects<br>Result logdir: /root/ray_results/my_optim<br>Number of trials: 10/10 (4 RUNNING, 6 TERMINATED)<br><table>\n<thead>\n<tr><th>Trial name                   </th><th>status    </th><th>loc           </th><th style=\"text-align: right;\">  depth</th><th style=\"text-align: right;\">  learning_rate</th><th style=\"text-align: right;\">  iter</th><th style=\"text-align: right;\">  total time (s)</th><th style=\"text-align: right;\">  score</th></tr>\n</thead>\n<tbody>\n<tr><td>training_function_08497_00005</td><td>RUNNING   </td><td>172.19.2.2:735</td><td style=\"text-align: right;\">      3</td><td style=\"text-align: right;\">      0.0307535</td><td style=\"text-align: right;\">     1</td><td style=\"text-align: right;\">         86.7363</td><td style=\"text-align: right;\">14.6884</td></tr>\n<tr><td>training_function_08497_00007</td><td>RUNNING   </td><td>              </td><td style=\"text-align: right;\">      2</td><td style=\"text-align: right;\">      0.992778 </td><td style=\"text-align: right;\">      </td><td style=\"text-align: right;\">                </td><td style=\"text-align: right;\">       </td></tr>\n<tr><td>training_function_08497_00008</td><td>RUNNING   </td><td>              </td><td style=\"text-align: right;\">      1</td><td style=\"text-align: right;\">      0.260938 </td><td style=\"text-align: right;\">      </td><td style=\"text-align: right;\">                </td><td style=\"text-align: right;\">       </td></tr>\n<tr><td>training_function_08497_00009</td><td>RUNNING   </td><td>              </td><td style=\"text-align: right;\">      3</td><td style=\"text-align: right;\">      0.70131  </td><td style=\"text-align: right;\">      </td><td style=\"text-align: right;\">                </td><td style=\"text-align: right;\">       </td></tr>\n<tr><td>training_function_08497_00000</td><td>TERMINATED</td><td>              </td><td style=\"text-align: right;\">      2</td><td style=\"text-align: right;\">      0.189619 </td><td style=\"text-align: right;\">     1</td><td style=\"text-align: right;\">         66.5036</td><td style=\"text-align: right;\">14.643 </td></tr>\n<tr><td>training_function_08497_00001</td><td>TERMINATED</td><td>              </td><td style=\"text-align: right;\">      1</td><td style=\"text-align: right;\">      0.497812 </td><td style=\"text-align: right;\">     1</td><td style=\"text-align: right;\">         46.606 </td><td style=\"text-align: right;\">18.4314</td></tr>\n<tr><td>training_function_08497_00002</td><td>TERMINATED</td><td>              </td><td style=\"text-align: right;\">      2</td><td style=\"text-align: right;\">      0.0726151</td><td style=\"text-align: right;\">     1</td><td style=\"text-align: right;\">         63.965 </td><td style=\"text-align: right;\">14.9471</td></tr>\n<tr><td>training_function_08497_00003</td><td>TERMINATED</td><td>              </td><td style=\"text-align: right;\">      4</td><td style=\"text-align: right;\">      0.40902  </td><td style=\"text-align: right;\">     1</td><td style=\"text-align: right;\">        122.334 </td><td style=\"text-align: right;\">13.7577</td></tr>\n<tr><td>training_function_08497_00004</td><td>TERMINATED</td><td>              </td><td style=\"text-align: right;\">      2</td><td style=\"text-align: right;\">      0.195715 </td><td style=\"text-align: right;\">     1</td><td style=\"text-align: right;\">         64.5259</td><td style=\"text-align: right;\">14.6452</td></tr>\n<tr><td>training_function_08497_00006</td><td>TERMINATED</td><td>              </td><td style=\"text-align: right;\">      2</td><td style=\"text-align: right;\">      0.75078  </td><td style=\"text-align: right;\">     1</td><td style=\"text-align: right;\">         68.2111</td><td style=\"text-align: right;\">14.6471</td></tr>\n</tbody>\n</table><br><br>"
     },
     "metadata": {},
     "output_type": "display_data"
    },
    {
     "name": "stdout",
     "output_type": "stream",
     "text": [
      "Result for training_function_08497_00005:\n",
      "  date: 2021-04-13_05-16-31\n",
      "  done: true\n",
      "  experiment_id: f251823fe33546e0938825e970b7e58e\n",
      "  experiment_tag: 5_depth=3,learning_rate=0.030753\n",
      "  hostname: 8da1837b6ed0\n",
      "  iterations_since_restore: 1\n",
      "  node_ip: 172.19.2.2\n",
      "  pid: 735\n",
      "  score: 14.688391347453756\n",
      "  time_since_restore: 86.73629641532898\n",
      "  time_this_iter_s: 86.73629641532898\n",
      "  time_total_s: 86.73629641532898\n",
      "  timestamp: 1618290991\n",
      "  timesteps_since_restore: 0\n",
      "  training_iteration: 1\n",
      "  trial_id: 08497_00005\n",
      "  \n",
      "Result for training_function_08497_00008:\n",
      "  date: 2021-04-13_05-16-51\n",
      "  done: false\n",
      "  experiment_id: c7a6c1f425ae4b65964cf239908e153d\n",
      "  hostname: 8da1837b6ed0\n",
      "  iterations_since_restore: 1\n",
      "  node_ip: 172.19.2.2\n",
      "  pid: 915\n",
      "  score: 18.475229222553324\n",
      "  time_since_restore: 42.940202474594116\n",
      "  time_this_iter_s: 42.940202474594116\n",
      "  time_total_s: 42.940202474594116\n",
      "  timestamp: 1618291011\n",
      "  timesteps_since_restore: 0\n",
      "  training_iteration: 1\n",
      "  trial_id: 08497_00008\n",
      "  \n"
     ]
    },
    {
     "data": {
      "text/plain": "<IPython.core.display.HTML object>",
      "text/html": "== Status ==<br>Memory usage on this node: 2.7/17.6 GiB<br>Using FIFO scheduling algorithm.<br>Resources requested: 3/4 CPUs, 0/0 GPUs, 0.0/8.94 GiB heap, 0.0/3.08 GiB objects<br>Result logdir: /root/ray_results/my_optim<br>Number of trials: 10/10 (3 RUNNING, 7 TERMINATED)<br><table>\n<thead>\n<tr><th>Trial name                   </th><th>status    </th><th>loc           </th><th style=\"text-align: right;\">  depth</th><th style=\"text-align: right;\">  learning_rate</th><th style=\"text-align: right;\">  iter</th><th style=\"text-align: right;\">  total time (s)</th><th style=\"text-align: right;\">  score</th></tr>\n</thead>\n<tbody>\n<tr><td>training_function_08497_00007</td><td>RUNNING   </td><td>              </td><td style=\"text-align: right;\">      2</td><td style=\"text-align: right;\">      0.992778 </td><td style=\"text-align: right;\">      </td><td style=\"text-align: right;\">                </td><td style=\"text-align: right;\">       </td></tr>\n<tr><td>training_function_08497_00008</td><td>RUNNING   </td><td>172.19.2.2:915</td><td style=\"text-align: right;\">      1</td><td style=\"text-align: right;\">      0.260938 </td><td style=\"text-align: right;\">     1</td><td style=\"text-align: right;\">         42.9402</td><td style=\"text-align: right;\">18.4752</td></tr>\n<tr><td>training_function_08497_00009</td><td>RUNNING   </td><td>              </td><td style=\"text-align: right;\">      3</td><td style=\"text-align: right;\">      0.70131  </td><td style=\"text-align: right;\">      </td><td style=\"text-align: right;\">                </td><td style=\"text-align: right;\">       </td></tr>\n<tr><td>training_function_08497_00000</td><td>TERMINATED</td><td>              </td><td style=\"text-align: right;\">      2</td><td style=\"text-align: right;\">      0.189619 </td><td style=\"text-align: right;\">     1</td><td style=\"text-align: right;\">         66.5036</td><td style=\"text-align: right;\">14.643 </td></tr>\n<tr><td>training_function_08497_00001</td><td>TERMINATED</td><td>              </td><td style=\"text-align: right;\">      1</td><td style=\"text-align: right;\">      0.497812 </td><td style=\"text-align: right;\">     1</td><td style=\"text-align: right;\">         46.606 </td><td style=\"text-align: right;\">18.4314</td></tr>\n<tr><td>training_function_08497_00002</td><td>TERMINATED</td><td>              </td><td style=\"text-align: right;\">      2</td><td style=\"text-align: right;\">      0.0726151</td><td style=\"text-align: right;\">     1</td><td style=\"text-align: right;\">         63.965 </td><td style=\"text-align: right;\">14.9471</td></tr>\n<tr><td>training_function_08497_00003</td><td>TERMINATED</td><td>              </td><td style=\"text-align: right;\">      4</td><td style=\"text-align: right;\">      0.40902  </td><td style=\"text-align: right;\">     1</td><td style=\"text-align: right;\">        122.334 </td><td style=\"text-align: right;\">13.7577</td></tr>\n<tr><td>training_function_08497_00004</td><td>TERMINATED</td><td>              </td><td style=\"text-align: right;\">      2</td><td style=\"text-align: right;\">      0.195715 </td><td style=\"text-align: right;\">     1</td><td style=\"text-align: right;\">         64.5259</td><td style=\"text-align: right;\">14.6452</td></tr>\n<tr><td>training_function_08497_00005</td><td>TERMINATED</td><td>              </td><td style=\"text-align: right;\">      3</td><td style=\"text-align: right;\">      0.0307535</td><td style=\"text-align: right;\">     1</td><td style=\"text-align: right;\">         86.7363</td><td style=\"text-align: right;\">14.6884</td></tr>\n<tr><td>training_function_08497_00006</td><td>TERMINATED</td><td>              </td><td style=\"text-align: right;\">      2</td><td style=\"text-align: right;\">      0.75078  </td><td style=\"text-align: right;\">     1</td><td style=\"text-align: right;\">         68.2111</td><td style=\"text-align: right;\">14.6471</td></tr>\n</tbody>\n</table><br><br>"
     },
     "metadata": {},
     "output_type": "display_data"
    },
    {
     "name": "stdout",
     "output_type": "stream",
     "text": [
      "Result for training_function_08497_00008:\n",
      "  date: 2021-04-13_05-16-51\n",
      "  done: true\n",
      "  experiment_id: c7a6c1f425ae4b65964cf239908e153d\n",
      "  experiment_tag: 8_depth=1,learning_rate=0.26094\n",
      "  hostname: 8da1837b6ed0\n",
      "  iterations_since_restore: 1\n",
      "  node_ip: 172.19.2.2\n",
      "  pid: 915\n",
      "  score: 18.475229222553324\n",
      "  time_since_restore: 42.940202474594116\n",
      "  time_this_iter_s: 42.940202474594116\n",
      "  time_total_s: 42.940202474594116\n",
      "  timestamp: 1618291011\n",
      "  timesteps_since_restore: 0\n",
      "  training_iteration: 1\n",
      "  trial_id: 08497_00008\n",
      "  \n",
      "Result for training_function_08497_00007:\n",
      "  date: 2021-04-13_05-16-59\n",
      "  done: false\n",
      "  experiment_id: 99f493a993a54cd8a9b03bc1b330dd34\n",
      "  hostname: 8da1837b6ed0\n",
      "  iterations_since_restore: 1\n",
      "  node_ip: 172.19.2.2\n",
      "  pid: 877\n",
      "  score: 14.797203640069784\n",
      "  time_since_restore: 57.88299345970154\n",
      "  time_this_iter_s: 57.88299345970154\n",
      "  time_total_s: 57.88299345970154\n",
      "  timestamp: 1618291019\n",
      "  timesteps_since_restore: 0\n",
      "  training_iteration: 1\n",
      "  trial_id: 08497_00007\n",
      "  \n"
     ]
    },
    {
     "data": {
      "text/plain": "<IPython.core.display.HTML object>",
      "text/html": "== Status ==<br>Memory usage on this node: 2.5/17.6 GiB<br>Using FIFO scheduling algorithm.<br>Resources requested: 2/4 CPUs, 0/0 GPUs, 0.0/8.94 GiB heap, 0.0/3.08 GiB objects<br>Result logdir: /root/ray_results/my_optim<br>Number of trials: 10/10 (2 RUNNING, 8 TERMINATED)<br><table>\n<thead>\n<tr><th>Trial name                   </th><th>status    </th><th>loc           </th><th style=\"text-align: right;\">  depth</th><th style=\"text-align: right;\">  learning_rate</th><th style=\"text-align: right;\">  iter</th><th style=\"text-align: right;\">  total time (s)</th><th style=\"text-align: right;\">  score</th></tr>\n</thead>\n<tbody>\n<tr><td>training_function_08497_00007</td><td>RUNNING   </td><td>172.19.2.2:877</td><td style=\"text-align: right;\">      2</td><td style=\"text-align: right;\">      0.992778 </td><td style=\"text-align: right;\">     1</td><td style=\"text-align: right;\">         57.883 </td><td style=\"text-align: right;\">14.7972</td></tr>\n<tr><td>training_function_08497_00009</td><td>RUNNING   </td><td>              </td><td style=\"text-align: right;\">      3</td><td style=\"text-align: right;\">      0.70131  </td><td style=\"text-align: right;\">      </td><td style=\"text-align: right;\">                </td><td style=\"text-align: right;\">       </td></tr>\n<tr><td>training_function_08497_00000</td><td>TERMINATED</td><td>              </td><td style=\"text-align: right;\">      2</td><td style=\"text-align: right;\">      0.189619 </td><td style=\"text-align: right;\">     1</td><td style=\"text-align: right;\">         66.5036</td><td style=\"text-align: right;\">14.643 </td></tr>\n<tr><td>training_function_08497_00001</td><td>TERMINATED</td><td>              </td><td style=\"text-align: right;\">      1</td><td style=\"text-align: right;\">      0.497812 </td><td style=\"text-align: right;\">     1</td><td style=\"text-align: right;\">         46.606 </td><td style=\"text-align: right;\">18.4314</td></tr>\n<tr><td>training_function_08497_00002</td><td>TERMINATED</td><td>              </td><td style=\"text-align: right;\">      2</td><td style=\"text-align: right;\">      0.0726151</td><td style=\"text-align: right;\">     1</td><td style=\"text-align: right;\">         63.965 </td><td style=\"text-align: right;\">14.9471</td></tr>\n<tr><td>training_function_08497_00003</td><td>TERMINATED</td><td>              </td><td style=\"text-align: right;\">      4</td><td style=\"text-align: right;\">      0.40902  </td><td style=\"text-align: right;\">     1</td><td style=\"text-align: right;\">        122.334 </td><td style=\"text-align: right;\">13.7577</td></tr>\n<tr><td>training_function_08497_00004</td><td>TERMINATED</td><td>              </td><td style=\"text-align: right;\">      2</td><td style=\"text-align: right;\">      0.195715 </td><td style=\"text-align: right;\">     1</td><td style=\"text-align: right;\">         64.5259</td><td style=\"text-align: right;\">14.6452</td></tr>\n<tr><td>training_function_08497_00005</td><td>TERMINATED</td><td>              </td><td style=\"text-align: right;\">      3</td><td style=\"text-align: right;\">      0.0307535</td><td style=\"text-align: right;\">     1</td><td style=\"text-align: right;\">         86.7363</td><td style=\"text-align: right;\">14.6884</td></tr>\n<tr><td>training_function_08497_00006</td><td>TERMINATED</td><td>              </td><td style=\"text-align: right;\">      2</td><td style=\"text-align: right;\">      0.75078  </td><td style=\"text-align: right;\">     1</td><td style=\"text-align: right;\">         68.2111</td><td style=\"text-align: right;\">14.6471</td></tr>\n<tr><td>training_function_08497_00008</td><td>TERMINATED</td><td>              </td><td style=\"text-align: right;\">      1</td><td style=\"text-align: right;\">      0.260938 </td><td style=\"text-align: right;\">     1</td><td style=\"text-align: right;\">         42.9402</td><td style=\"text-align: right;\">18.4752</td></tr>\n</tbody>\n</table><br><br>"
     },
     "metadata": {},
     "output_type": "display_data"
    },
    {
     "name": "stdout",
     "output_type": "stream",
     "text": [
      "Result for training_function_08497_00007:\n",
      "  date: 2021-04-13_05-16-59\n",
      "  done: true\n",
      "  experiment_id: 99f493a993a54cd8a9b03bc1b330dd34\n",
      "  experiment_tag: 7_depth=2,learning_rate=0.99278\n",
      "  hostname: 8da1837b6ed0\n",
      "  iterations_since_restore: 1\n",
      "  node_ip: 172.19.2.2\n",
      "  pid: 877\n",
      "  score: 14.797203640069784\n",
      "  time_since_restore: 57.88299345970154\n",
      "  time_this_iter_s: 57.88299345970154\n",
      "  time_total_s: 57.88299345970154\n",
      "  timestamp: 1618291019\n",
      "  timesteps_since_restore: 0\n",
      "  training_iteration: 1\n",
      "  trial_id: 08497_00007\n",
      "  \n",
      "Result for training_function_08497_00009:\n",
      "  date: 2021-04-13_05-17-12\n",
      "  done: false\n",
      "  experiment_id: 62ab649434ca4adc8ebc7d6c18908a7d\n",
      "  hostname: 8da1837b6ed0\n",
      "  iterations_since_restore: 1\n",
      "  node_ip: 172.19.2.2\n",
      "  pid: 966\n",
      "  score: 14.145548672150008\n",
      "  time_since_restore: 47.23516058921814\n",
      "  time_this_iter_s: 47.23516058921814\n",
      "  time_total_s: 47.23516058921814\n",
      "  timestamp: 1618291032\n",
      "  timesteps_since_restore: 0\n",
      "  training_iteration: 1\n",
      "  trial_id: 08497_00009\n",
      "  \n"
     ]
    },
    {
     "data": {
      "text/plain": "<IPython.core.display.HTML object>",
      "text/html": "== Status ==<br>Memory usage on this node: 2.4/17.6 GiB<br>Using FIFO scheduling algorithm.<br>Resources requested: 1/4 CPUs, 0/0 GPUs, 0.0/8.94 GiB heap, 0.0/3.08 GiB objects<br>Result logdir: /root/ray_results/my_optim<br>Number of trials: 10/10 (1 RUNNING, 9 TERMINATED)<br><table>\n<thead>\n<tr><th>Trial name                   </th><th>status    </th><th>loc           </th><th style=\"text-align: right;\">  depth</th><th style=\"text-align: right;\">  learning_rate</th><th style=\"text-align: right;\">  iter</th><th style=\"text-align: right;\">  total time (s)</th><th style=\"text-align: right;\">  score</th></tr>\n</thead>\n<tbody>\n<tr><td>training_function_08497_00009</td><td>RUNNING   </td><td>172.19.2.2:966</td><td style=\"text-align: right;\">      3</td><td style=\"text-align: right;\">      0.70131  </td><td style=\"text-align: right;\">     1</td><td style=\"text-align: right;\">         47.2352</td><td style=\"text-align: right;\">14.1455</td></tr>\n<tr><td>training_function_08497_00000</td><td>TERMINATED</td><td>              </td><td style=\"text-align: right;\">      2</td><td style=\"text-align: right;\">      0.189619 </td><td style=\"text-align: right;\">     1</td><td style=\"text-align: right;\">         66.5036</td><td style=\"text-align: right;\">14.643 </td></tr>\n<tr><td>training_function_08497_00001</td><td>TERMINATED</td><td>              </td><td style=\"text-align: right;\">      1</td><td style=\"text-align: right;\">      0.497812 </td><td style=\"text-align: right;\">     1</td><td style=\"text-align: right;\">         46.606 </td><td style=\"text-align: right;\">18.4314</td></tr>\n<tr><td>training_function_08497_00002</td><td>TERMINATED</td><td>              </td><td style=\"text-align: right;\">      2</td><td style=\"text-align: right;\">      0.0726151</td><td style=\"text-align: right;\">     1</td><td style=\"text-align: right;\">         63.965 </td><td style=\"text-align: right;\">14.9471</td></tr>\n<tr><td>training_function_08497_00003</td><td>TERMINATED</td><td>              </td><td style=\"text-align: right;\">      4</td><td style=\"text-align: right;\">      0.40902  </td><td style=\"text-align: right;\">     1</td><td style=\"text-align: right;\">        122.334 </td><td style=\"text-align: right;\">13.7577</td></tr>\n<tr><td>training_function_08497_00004</td><td>TERMINATED</td><td>              </td><td style=\"text-align: right;\">      2</td><td style=\"text-align: right;\">      0.195715 </td><td style=\"text-align: right;\">     1</td><td style=\"text-align: right;\">         64.5259</td><td style=\"text-align: right;\">14.6452</td></tr>\n<tr><td>training_function_08497_00005</td><td>TERMINATED</td><td>              </td><td style=\"text-align: right;\">      3</td><td style=\"text-align: right;\">      0.0307535</td><td style=\"text-align: right;\">     1</td><td style=\"text-align: right;\">         86.7363</td><td style=\"text-align: right;\">14.6884</td></tr>\n<tr><td>training_function_08497_00006</td><td>TERMINATED</td><td>              </td><td style=\"text-align: right;\">      2</td><td style=\"text-align: right;\">      0.75078  </td><td style=\"text-align: right;\">     1</td><td style=\"text-align: right;\">         68.2111</td><td style=\"text-align: right;\">14.6471</td></tr>\n<tr><td>training_function_08497_00007</td><td>TERMINATED</td><td>              </td><td style=\"text-align: right;\">      2</td><td style=\"text-align: right;\">      0.992778 </td><td style=\"text-align: right;\">     1</td><td style=\"text-align: right;\">         57.883 </td><td style=\"text-align: right;\">14.7972</td></tr>\n<tr><td>training_function_08497_00008</td><td>TERMINATED</td><td>              </td><td style=\"text-align: right;\">      1</td><td style=\"text-align: right;\">      0.260938 </td><td style=\"text-align: right;\">     1</td><td style=\"text-align: right;\">         42.9402</td><td style=\"text-align: right;\">18.4752</td></tr>\n</tbody>\n</table><br><br>"
     },
     "metadata": {},
     "output_type": "display_data"
    },
    {
     "name": "stdout",
     "output_type": "stream",
     "text": [
      "Result for training_function_08497_00009:\n",
      "  date: 2021-04-13_05-17-12\n",
      "  done: true\n",
      "  experiment_id: 62ab649434ca4adc8ebc7d6c18908a7d\n",
      "  experiment_tag: 9_depth=3,learning_rate=0.70131\n",
      "  hostname: 8da1837b6ed0\n",
      "  iterations_since_restore: 1\n",
      "  node_ip: 172.19.2.2\n",
      "  pid: 966\n",
      "  score: 14.145548672150008\n",
      "  time_since_restore: 47.23516058921814\n",
      "  time_this_iter_s: 47.23516058921814\n",
      "  time_total_s: 47.23516058921814\n",
      "  timestamp: 1618291032\n",
      "  timesteps_since_restore: 0\n",
      "  training_iteration: 1\n",
      "  trial_id: 08497_00009\n",
      "  \n"
     ]
    },
    {
     "data": {
      "text/plain": "<IPython.core.display.HTML object>",
      "text/html": "== Status ==<br>Memory usage on this node: 2.4/17.6 GiB<br>Using FIFO scheduling algorithm.<br>Resources requested: 0/4 CPUs, 0/0 GPUs, 0.0/8.94 GiB heap, 0.0/3.08 GiB objects<br>Result logdir: /root/ray_results/my_optim<br>Number of trials: 10/10 (10 TERMINATED)<br><table>\n<thead>\n<tr><th>Trial name                   </th><th>status    </th><th>loc  </th><th style=\"text-align: right;\">  depth</th><th style=\"text-align: right;\">  learning_rate</th><th style=\"text-align: right;\">  iter</th><th style=\"text-align: right;\">  total time (s)</th><th style=\"text-align: right;\">  score</th></tr>\n</thead>\n<tbody>\n<tr><td>training_function_08497_00000</td><td>TERMINATED</td><td>     </td><td style=\"text-align: right;\">      2</td><td style=\"text-align: right;\">      0.189619 </td><td style=\"text-align: right;\">     1</td><td style=\"text-align: right;\">         66.5036</td><td style=\"text-align: right;\">14.643 </td></tr>\n<tr><td>training_function_08497_00001</td><td>TERMINATED</td><td>     </td><td style=\"text-align: right;\">      1</td><td style=\"text-align: right;\">      0.497812 </td><td style=\"text-align: right;\">     1</td><td style=\"text-align: right;\">         46.606 </td><td style=\"text-align: right;\">18.4314</td></tr>\n<tr><td>training_function_08497_00002</td><td>TERMINATED</td><td>     </td><td style=\"text-align: right;\">      2</td><td style=\"text-align: right;\">      0.0726151</td><td style=\"text-align: right;\">     1</td><td style=\"text-align: right;\">         63.965 </td><td style=\"text-align: right;\">14.9471</td></tr>\n<tr><td>training_function_08497_00003</td><td>TERMINATED</td><td>     </td><td style=\"text-align: right;\">      4</td><td style=\"text-align: right;\">      0.40902  </td><td style=\"text-align: right;\">     1</td><td style=\"text-align: right;\">        122.334 </td><td style=\"text-align: right;\">13.7577</td></tr>\n<tr><td>training_function_08497_00004</td><td>TERMINATED</td><td>     </td><td style=\"text-align: right;\">      2</td><td style=\"text-align: right;\">      0.195715 </td><td style=\"text-align: right;\">     1</td><td style=\"text-align: right;\">         64.5259</td><td style=\"text-align: right;\">14.6452</td></tr>\n<tr><td>training_function_08497_00005</td><td>TERMINATED</td><td>     </td><td style=\"text-align: right;\">      3</td><td style=\"text-align: right;\">      0.0307535</td><td style=\"text-align: right;\">     1</td><td style=\"text-align: right;\">         86.7363</td><td style=\"text-align: right;\">14.6884</td></tr>\n<tr><td>training_function_08497_00006</td><td>TERMINATED</td><td>     </td><td style=\"text-align: right;\">      2</td><td style=\"text-align: right;\">      0.75078  </td><td style=\"text-align: right;\">     1</td><td style=\"text-align: right;\">         68.2111</td><td style=\"text-align: right;\">14.6471</td></tr>\n<tr><td>training_function_08497_00007</td><td>TERMINATED</td><td>     </td><td style=\"text-align: right;\">      2</td><td style=\"text-align: right;\">      0.992778 </td><td style=\"text-align: right;\">     1</td><td style=\"text-align: right;\">         57.883 </td><td style=\"text-align: right;\">14.7972</td></tr>\n<tr><td>training_function_08497_00008</td><td>TERMINATED</td><td>     </td><td style=\"text-align: right;\">      1</td><td style=\"text-align: right;\">      0.260938 </td><td style=\"text-align: right;\">     1</td><td style=\"text-align: right;\">         42.9402</td><td style=\"text-align: right;\">18.4752</td></tr>\n<tr><td>training_function_08497_00009</td><td>TERMINATED</td><td>     </td><td style=\"text-align: right;\">      3</td><td style=\"text-align: right;\">      0.70131  </td><td style=\"text-align: right;\">     1</td><td style=\"text-align: right;\">         47.2352</td><td style=\"text-align: right;\">14.1455</td></tr>\n</tbody>\n</table><br><br>"
     },
     "metadata": {},
     "output_type": "display_data"
    },
    {
     "name": "stderr",
     "output_type": "stream",
     "text": [
      "2021-04-13 05:17:12,837\tINFO tune.py:450 -- Total run time: 202.73 seconds (202.61 seconds for the tuning loop).\n"
     ]
    }
   ],
   "source": [
    "def training_function(config):\n",
    "    # Hyperparameters\n",
    "    its,lr,dp=config['iterations'],config['learning_rate'],config['depth']\n",
    "    cat_features=config['cat_features']\n",
    "    model = CatBoostRegressor(its,learning_rate=lr,depth=dp,eval_metric='MAE')\n",
    "\n",
    "    y_model=model.fit(x1,y1,eval_set=(x2,y2),verbose=False,cat_features=cat_features,\n",
    "                      metric_period=100).predict(x2)\n",
    "    intermediate_score = mean_absolute_error(y2,y_model)\n",
    "    # print(intermediate_score)\n",
    "    # intermediate_score = np.count_nonzero(y_model == y_test) / len(y_test)\n",
    "        # Feed the score back back to Tune.\n",
    "    tune.report(score=intermediate_score)\n",
    "    return None\n",
    "\n",
    "config = {\n",
    "        'iterations':3000,\n",
    "        'learning_rate':tune.uniform(0.01,1),\n",
    "        'depth':tune.choice([1,2,3,4,5]),\n",
    "        'cat_features':np.array([12,13])\n",
    "}\n",
    "\n",
    "\n",
    "hyperopt = HyperOptSearch(metric=\"score\", mode=\"min\")\n",
    "analysis = tune.run(\n",
    "    training_function,\n",
    "    mode=\"min\",\n",
    "    name='my_optim',\n",
    "    num_samples=10,\n",
    "    # search_alg=hyperopt,\n",
    "    config=config)\n",
    "\n"
   ],
   "metadata": {
    "collapsed": false,
    "pycharm": {
     "name": "#%%\n"
    }
   }
  },
  {
   "cell_type": "markdown",
   "source": [
    "Лучшая конфигурация"
   ],
   "metadata": {
    "collapsed": false,
    "pycharm": {
     "name": "#%% md\n"
    }
   }
  },
  {
   "cell_type": "code",
   "execution_count": 86,
   "outputs": [
    {
     "name": "stdout",
     "output_type": "stream",
     "text": [
      "Best config:  {'iterations': 3000, 'learning_rate': 0.4090195804383928, 'depth': 4, 'cat_features': array([12, 13])}\n"
     ]
    }
   ],
   "source": [
    "print(\"Best config: \", analysis.get_best_config(\n",
    "    metric=\"score\", mode=\"min\"))\n"
   ],
   "metadata": {
    "collapsed": false,
    "pycharm": {
     "name": "#%%\n"
    }
   }
  },
  {
   "cell_type": "markdown",
   "source": [
    "Минимальная абсолютная ошибка"
   ],
   "metadata": {
    "collapsed": false,
    "pycharm": {
     "name": "#%% md\n"
    }
   }
  },
  {
   "cell_type": "code",
   "execution_count": 90,
   "outputs": [
    {
     "name": "stdout",
     "output_type": "stream",
     "text": [
      "13.757660990058657\n"
     ]
    }
   ],
   "source": [
    "print(analysis.get_best_trial('score').last_result['score'])\n"
   ],
   "metadata": {
    "collapsed": false,
    "pycharm": {
     "name": "#%%\n"
    }
   }
  },
  {
   "cell_type": "markdown",
   "source": [
    "Как и предполагалось - более сложный метод дает лучшие результаты.\n"
   ],
   "metadata": {
    "collapsed": false,
    "pycharm": {
     "name": "#%% md\n"
    }
   }
  },
  {
   "cell_type": "code",
   "execution_count": null,
   "outputs": [],
   "source": [],
   "metadata": {
    "collapsed": false,
    "pycharm": {
     "name": "#%%\n"
    }
   }
  }
 ],
 "metadata": {
  "kernelspec": {
   "display_name": "Python 3",
   "language": "python",
   "name": "python3"
  }
 },
 "nbformat": 4,
 "nbformat_minor": 0
}